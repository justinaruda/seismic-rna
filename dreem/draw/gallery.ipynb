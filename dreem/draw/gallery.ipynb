{
 "cells": [
  {
   "attachments": {},
   "cell_type": "markdown",
   "metadata": {},
   "source": [
    "# Plot gallery"
   ]
  },
  {
   "attachments": {},
   "cell_type": "markdown",
   "metadata": {},
   "source": [
    "## How to use this notebook\n",
    "\n",
    "We use the test dataset stored [here](https://drive.google.com/file/d/1CTwrjO2dPWqISxcEyCJ1oj_EE1IaDrmI/view?usp=share_link). \n",
    "\n",
    "You shall store the data under the `data` folder, as follow:\n",
    "\n",
    "```\n",
    "/main folder\n",
    "    /data\n",
    "        sample1.json\n",
    "        sample2.json\n",
    "    gallery.ipynb"
   ]
  },
  {
   "attachments": {},
   "cell_type": "markdown",
   "metadata": {},
   "source": [
    "## Imports"
   ]
  },
  {
   "cell_type": "code",
   "execution_count": 1,
   "metadata": {},
   "outputs": [],
   "source": [
    "%load_ext autoreload\n",
    "%autoreload 2\n",
    "\n",
    "import os, json, sys\n",
    "sys.path.append('/Users/ymdt/src/dreem')\n",
    "import pandas as pd\n",
    "import dreem \n",
    "\n",
    "\n",
    "data = dreem.draw.load_dataset()\n",
    "\n",
    "study = dreem.draw.Study()\n",
    "study.df = data\n",
    "sample, reference, section, family = study.df.iloc[0][['sample', 'reference', 'section', 'family']]\n",
    "\n",
    "path_figs = '/Users/ymdt/src/dreem/docs/source/plots/plots_figs'\n",
    "# remove all html files in path_figs\n",
    "for file in os.listdir(path_figs):\n",
    "    if file.endswith('.html'):\n",
    "        os.remove(os.path.join(path_figs, file))\n",
    "dim = (600, 400)\n"
   ]
  },
  {
   "cell_type": "code",
   "execution_count": 52,
   "metadata": {},
   "outputs": [],
   "source": [
    "data = study.get_df(\n",
    "        sample = '65degrees_1_S20_L001',        # select one or multiple sample(s)\n",
    "        reference = ['3042-O-flank_1=hp1-DB',   # select one or multiple reference(s)\n",
    "                        '3043-CC-flank_1=hp1-DB'],\n",
    "        section = 'ROI',                        # select one or multiple section(s)\n",
    "        base_type = ['A','C']                   # select one or multiple base type(s)\n",
    "    )[['sample','reference','section','sequence','sub_rate','deltaG','family','num_aligned','DMS_conc_mM']].reset_index(drop=True)"
   ]
  },
  {
   "attachments": {},
   "cell_type": "markdown",
   "metadata": {},
   "source": [
    "## Mutation fraction"
   ]
  },
  {
   "cell_type": "code",
   "execution_count": 4,
   "metadata": {},
   "outputs": [
    {
     "data": {
      "application/vnd.plotly.v1+json": {
       "config": {
        "plotlyServerURL": "https://plot.ly"
       },
       "data": [
        {
         "error_y": {
          "symmetric": false,
          "type": "data"
         },
         "hovertemplate": "<b>mut_rate: %{text[0]}<br><b>base: %{text[1]}<br><b>index: %{text[2]}<br><b>paired: %{text[3]}<br>",
         "marker": {
          "color": "orange"
         },
         "name": "G",
         "text": [
          [
           0.005303957568339453,
           "G",
           3,
           false
          ],
          [
           0.003663003663003663,
           "G",
           10,
           true
          ],
          [
           0.003258655804480652,
           "G",
           14,
           false
          ]
         ],
         "type": "bar",
         "x": [
          2,
          9,
          13
         ],
         "y": [
          0.005303957568339453,
          0.003663003663003663,
          0.003258655804480652
         ]
        },
        {
         "error_y": {
          "symmetric": false,
          "type": "data"
         },
         "hovertemplate": "<b>mut_rate: %{text[0]}<br><b>base: %{text[1]}<br><b>index: %{text[2]}<br><b>paired: %{text[3]}<br>",
         "marker": {
          "color": "green"
         },
         "name": "T",
         "text": [
          [
           0.0008193363375665711,
           "T",
           5,
           false
          ],
          [
           0.0004098360655737705,
           "T",
           7,
           false
          ],
          [
           0.0004086636697997548,
           "T",
           8,
           false
          ],
          [
           0.0008153281695882593,
           "T",
           17,
           false
          ],
          [
           0.0012510425354462051,
           "T",
           19,
           false
          ],
          [
           0.0004158004158004158,
           "T",
           21,
           false
          ],
          [
           0.0012484394506866417,
           "T",
           22,
           false
          ]
         ],
         "type": "bar",
         "x": [
          4,
          6,
          7,
          16,
          18,
          20,
          21
         ],
         "y": [
          0.0008193363375665711,
          0.0004098360655737705,
          0.0004086636697997548,
          0.0008153281695882593,
          0.0012510425354462051,
          0.0004158004158004158,
          0.0012484394506866417
         ]
        },
        {
         "error_y": {
          "symmetric": false,
          "type": "data"
         },
         "hovertemplate": "<b>mut_rate: %{text[0]}<br><b>base: %{text[1]}<br><b>index: %{text[2]}<br><b>paired: %{text[3]}<br>",
         "marker": {
          "color": "blue"
         },
         "name": "C",
         "text": [
          [
           0.002437043054427295,
           "C",
           9,
           false
          ],
          [
           0.004932182490752158,
           "C",
           20,
           false
          ]
         ],
         "type": "bar",
         "x": [
          8,
          19
         ],
         "y": [
          0.002437043054427295,
          0.004932182490752158
         ]
        },
        {
         "error_y": {
          "symmetric": false,
          "type": "data"
         },
         "hovertemplate": "<b>mut_rate: %{text[0]}<br><b>base: %{text[1]}<br><b>index: %{text[2]}<br><b>paired: %{text[3]}<br>",
         "marker": {
          "color": "red"
         },
         "name": "A",
         "text": [
          [
           0.01309328968903437,
           "A",
           1,
           false
          ],
          [
           0.006129955046996322,
           "A",
           2,
           false
          ],
          [
           0.0024650780608052587,
           "A",
           4,
           false
          ],
          [
           0,
           "A",
           6,
           false
          ],
          [
           0.017493897477624084,
           "A",
           11,
           true
          ],
          [
           0.012043189368770765,
           "A",
           12,
           true
          ],
          [
           0.017486783245221633,
           "A",
           13,
           true
          ],
          [
           0.0024640657084188913,
           "A",
           15,
           false
          ],
          [
           0.003676470588235294,
           "A",
           16,
           false
          ],
          [
           0.0020475020475020475,
           "A",
           18,
           false
          ]
         ],
         "type": "bar",
         "x": [
          0,
          1,
          3,
          5,
          10,
          11,
          12,
          14,
          15,
          17
         ],
         "y": [
          0.01309328968903437,
          0.006129955046996322,
          0.0024650780608052587,
          0,
          0.017493897477624084,
          0.012043189368770765,
          0.017486783245221633,
          0.0024640657084188913,
          0.003676470588235294,
          0.0020475020475020475
         ]
        }
       ],
       "layout": {
        "template": {
         "data": {
          "bar": [
           {
            "error_x": {
             "color": "#2a3f5f"
            },
            "error_y": {
             "color": "#2a3f5f"
            },
            "marker": {
             "line": {
              "color": "#E5ECF6",
              "width": 0.5
             },
             "pattern": {
              "fillmode": "overlay",
              "size": 10,
              "solidity": 0.2
             }
            },
            "type": "bar"
           }
          ],
          "barpolar": [
           {
            "marker": {
             "line": {
              "color": "#E5ECF6",
              "width": 0.5
             },
             "pattern": {
              "fillmode": "overlay",
              "size": 10,
              "solidity": 0.2
             }
            },
            "type": "barpolar"
           }
          ],
          "carpet": [
           {
            "aaxis": {
             "endlinecolor": "#2a3f5f",
             "gridcolor": "white",
             "linecolor": "white",
             "minorgridcolor": "white",
             "startlinecolor": "#2a3f5f"
            },
            "baxis": {
             "endlinecolor": "#2a3f5f",
             "gridcolor": "white",
             "linecolor": "white",
             "minorgridcolor": "white",
             "startlinecolor": "#2a3f5f"
            },
            "type": "carpet"
           }
          ],
          "choropleth": [
           {
            "colorbar": {
             "outlinewidth": 0,
             "ticks": ""
            },
            "type": "choropleth"
           }
          ],
          "contour": [
           {
            "colorbar": {
             "outlinewidth": 0,
             "ticks": ""
            },
            "colorscale": [
             [
              0,
              "#0d0887"
             ],
             [
              0.1111111111111111,
              "#46039f"
             ],
             [
              0.2222222222222222,
              "#7201a8"
             ],
             [
              0.3333333333333333,
              "#9c179e"
             ],
             [
              0.4444444444444444,
              "#bd3786"
             ],
             [
              0.5555555555555556,
              "#d8576b"
             ],
             [
              0.6666666666666666,
              "#ed7953"
             ],
             [
              0.7777777777777778,
              "#fb9f3a"
             ],
             [
              0.8888888888888888,
              "#fdca26"
             ],
             [
              1,
              "#f0f921"
             ]
            ],
            "type": "contour"
           }
          ],
          "contourcarpet": [
           {
            "colorbar": {
             "outlinewidth": 0,
             "ticks": ""
            },
            "type": "contourcarpet"
           }
          ],
          "heatmap": [
           {
            "colorbar": {
             "outlinewidth": 0,
             "ticks": ""
            },
            "colorscale": [
             [
              0,
              "#0d0887"
             ],
             [
              0.1111111111111111,
              "#46039f"
             ],
             [
              0.2222222222222222,
              "#7201a8"
             ],
             [
              0.3333333333333333,
              "#9c179e"
             ],
             [
              0.4444444444444444,
              "#bd3786"
             ],
             [
              0.5555555555555556,
              "#d8576b"
             ],
             [
              0.6666666666666666,
              "#ed7953"
             ],
             [
              0.7777777777777778,
              "#fb9f3a"
             ],
             [
              0.8888888888888888,
              "#fdca26"
             ],
             [
              1,
              "#f0f921"
             ]
            ],
            "type": "heatmap"
           }
          ],
          "heatmapgl": [
           {
            "colorbar": {
             "outlinewidth": 0,
             "ticks": ""
            },
            "colorscale": [
             [
              0,
              "#0d0887"
             ],
             [
              0.1111111111111111,
              "#46039f"
             ],
             [
              0.2222222222222222,
              "#7201a8"
             ],
             [
              0.3333333333333333,
              "#9c179e"
             ],
             [
              0.4444444444444444,
              "#bd3786"
             ],
             [
              0.5555555555555556,
              "#d8576b"
             ],
             [
              0.6666666666666666,
              "#ed7953"
             ],
             [
              0.7777777777777778,
              "#fb9f3a"
             ],
             [
              0.8888888888888888,
              "#fdca26"
             ],
             [
              1,
              "#f0f921"
             ]
            ],
            "type": "heatmapgl"
           }
          ],
          "histogram": [
           {
            "marker": {
             "pattern": {
              "fillmode": "overlay",
              "size": 10,
              "solidity": 0.2
             }
            },
            "type": "histogram"
           }
          ],
          "histogram2d": [
           {
            "colorbar": {
             "outlinewidth": 0,
             "ticks": ""
            },
            "colorscale": [
             [
              0,
              "#0d0887"
             ],
             [
              0.1111111111111111,
              "#46039f"
             ],
             [
              0.2222222222222222,
              "#7201a8"
             ],
             [
              0.3333333333333333,
              "#9c179e"
             ],
             [
              0.4444444444444444,
              "#bd3786"
             ],
             [
              0.5555555555555556,
              "#d8576b"
             ],
             [
              0.6666666666666666,
              "#ed7953"
             ],
             [
              0.7777777777777778,
              "#fb9f3a"
             ],
             [
              0.8888888888888888,
              "#fdca26"
             ],
             [
              1,
              "#f0f921"
             ]
            ],
            "type": "histogram2d"
           }
          ],
          "histogram2dcontour": [
           {
            "colorbar": {
             "outlinewidth": 0,
             "ticks": ""
            },
            "colorscale": [
             [
              0,
              "#0d0887"
             ],
             [
              0.1111111111111111,
              "#46039f"
             ],
             [
              0.2222222222222222,
              "#7201a8"
             ],
             [
              0.3333333333333333,
              "#9c179e"
             ],
             [
              0.4444444444444444,
              "#bd3786"
             ],
             [
              0.5555555555555556,
              "#d8576b"
             ],
             [
              0.6666666666666666,
              "#ed7953"
             ],
             [
              0.7777777777777778,
              "#fb9f3a"
             ],
             [
              0.8888888888888888,
              "#fdca26"
             ],
             [
              1,
              "#f0f921"
             ]
            ],
            "type": "histogram2dcontour"
           }
          ],
          "mesh3d": [
           {
            "colorbar": {
             "outlinewidth": 0,
             "ticks": ""
            },
            "type": "mesh3d"
           }
          ],
          "parcoords": [
           {
            "line": {
             "colorbar": {
              "outlinewidth": 0,
              "ticks": ""
             }
            },
            "type": "parcoords"
           }
          ],
          "pie": [
           {
            "automargin": true,
            "type": "pie"
           }
          ],
          "scatter": [
           {
            "fillpattern": {
             "fillmode": "overlay",
             "size": 10,
             "solidity": 0.2
            },
            "type": "scatter"
           }
          ],
          "scatter3d": [
           {
            "line": {
             "colorbar": {
              "outlinewidth": 0,
              "ticks": ""
             }
            },
            "marker": {
             "colorbar": {
              "outlinewidth": 0,
              "ticks": ""
             }
            },
            "type": "scatter3d"
           }
          ],
          "scattercarpet": [
           {
            "marker": {
             "colorbar": {
              "outlinewidth": 0,
              "ticks": ""
             }
            },
            "type": "scattercarpet"
           }
          ],
          "scattergeo": [
           {
            "marker": {
             "colorbar": {
              "outlinewidth": 0,
              "ticks": ""
             }
            },
            "type": "scattergeo"
           }
          ],
          "scattergl": [
           {
            "marker": {
             "colorbar": {
              "outlinewidth": 0,
              "ticks": ""
             }
            },
            "type": "scattergl"
           }
          ],
          "scattermapbox": [
           {
            "marker": {
             "colorbar": {
              "outlinewidth": 0,
              "ticks": ""
             }
            },
            "type": "scattermapbox"
           }
          ],
          "scatterpolar": [
           {
            "marker": {
             "colorbar": {
              "outlinewidth": 0,
              "ticks": ""
             }
            },
            "type": "scatterpolar"
           }
          ],
          "scatterpolargl": [
           {
            "marker": {
             "colorbar": {
              "outlinewidth": 0,
              "ticks": ""
             }
            },
            "type": "scatterpolargl"
           }
          ],
          "scatterternary": [
           {
            "marker": {
             "colorbar": {
              "outlinewidth": 0,
              "ticks": ""
             }
            },
            "type": "scatterternary"
           }
          ],
          "surface": [
           {
            "colorbar": {
             "outlinewidth": 0,
             "ticks": ""
            },
            "colorscale": [
             [
              0,
              "#0d0887"
             ],
             [
              0.1111111111111111,
              "#46039f"
             ],
             [
              0.2222222222222222,
              "#7201a8"
             ],
             [
              0.3333333333333333,
              "#9c179e"
             ],
             [
              0.4444444444444444,
              "#bd3786"
             ],
             [
              0.5555555555555556,
              "#d8576b"
             ],
             [
              0.6666666666666666,
              "#ed7953"
             ],
             [
              0.7777777777777778,
              "#fb9f3a"
             ],
             [
              0.8888888888888888,
              "#fdca26"
             ],
             [
              1,
              "#f0f921"
             ]
            ],
            "type": "surface"
           }
          ],
          "table": [
           {
            "cells": {
             "fill": {
              "color": "#EBF0F8"
             },
             "line": {
              "color": "white"
             }
            },
            "header": {
             "fill": {
              "color": "#C8D4E3"
             },
             "line": {
              "color": "white"
             }
            },
            "type": "table"
           }
          ]
         },
         "layout": {
          "annotationdefaults": {
           "arrowcolor": "#2a3f5f",
           "arrowhead": 0,
           "arrowwidth": 1
          },
          "autotypenumbers": "strict",
          "coloraxis": {
           "colorbar": {
            "outlinewidth": 0,
            "ticks": ""
           }
          },
          "colorscale": {
           "diverging": [
            [
             0,
             "#8e0152"
            ],
            [
             0.1,
             "#c51b7d"
            ],
            [
             0.2,
             "#de77ae"
            ],
            [
             0.3,
             "#f1b6da"
            ],
            [
             0.4,
             "#fde0ef"
            ],
            [
             0.5,
             "#f7f7f7"
            ],
            [
             0.6,
             "#e6f5d0"
            ],
            [
             0.7,
             "#b8e186"
            ],
            [
             0.8,
             "#7fbc41"
            ],
            [
             0.9,
             "#4d9221"
            ],
            [
             1,
             "#276419"
            ]
           ],
           "sequential": [
            [
             0,
             "#0d0887"
            ],
            [
             0.1111111111111111,
             "#46039f"
            ],
            [
             0.2222222222222222,
             "#7201a8"
            ],
            [
             0.3333333333333333,
             "#9c179e"
            ],
            [
             0.4444444444444444,
             "#bd3786"
            ],
            [
             0.5555555555555556,
             "#d8576b"
            ],
            [
             0.6666666666666666,
             "#ed7953"
            ],
            [
             0.7777777777777778,
             "#fb9f3a"
            ],
            [
             0.8888888888888888,
             "#fdca26"
            ],
            [
             1,
             "#f0f921"
            ]
           ],
           "sequentialminus": [
            [
             0,
             "#0d0887"
            ],
            [
             0.1111111111111111,
             "#46039f"
            ],
            [
             0.2222222222222222,
             "#7201a8"
            ],
            [
             0.3333333333333333,
             "#9c179e"
            ],
            [
             0.4444444444444444,
             "#bd3786"
            ],
            [
             0.5555555555555556,
             "#d8576b"
            ],
            [
             0.6666666666666666,
             "#ed7953"
            ],
            [
             0.7777777777777778,
             "#fb9f3a"
            ],
            [
             0.8888888888888888,
             "#fdca26"
            ],
            [
             1,
             "#f0f921"
            ]
           ]
          },
          "colorway": [
           "#636efa",
           "#EF553B",
           "#00cc96",
           "#ab63fa",
           "#FFA15A",
           "#19d3f3",
           "#FF6692",
           "#B6E880",
           "#FF97FF",
           "#FECB52"
          ],
          "font": {
           "color": "#2a3f5f"
          },
          "geo": {
           "bgcolor": "white",
           "lakecolor": "white",
           "landcolor": "#E5ECF6",
           "showlakes": true,
           "showland": true,
           "subunitcolor": "white"
          },
          "hoverlabel": {
           "align": "left"
          },
          "hovermode": "closest",
          "mapbox": {
           "style": "light"
          },
          "paper_bgcolor": "white",
          "plot_bgcolor": "#E5ECF6",
          "polar": {
           "angularaxis": {
            "gridcolor": "white",
            "linecolor": "white",
            "ticks": ""
           },
           "bgcolor": "#E5ECF6",
           "radialaxis": {
            "gridcolor": "white",
            "linecolor": "white",
            "ticks": ""
           }
          },
          "scene": {
           "xaxis": {
            "backgroundcolor": "#E5ECF6",
            "gridcolor": "white",
            "gridwidth": 2,
            "linecolor": "white",
            "showbackground": true,
            "ticks": "",
            "zerolinecolor": "white"
           },
           "yaxis": {
            "backgroundcolor": "#E5ECF6",
            "gridcolor": "white",
            "gridwidth": 2,
            "linecolor": "white",
            "showbackground": true,
            "ticks": "",
            "zerolinecolor": "white"
           },
           "zaxis": {
            "backgroundcolor": "#E5ECF6",
            "gridcolor": "white",
            "gridwidth": 2,
            "linecolor": "white",
            "showbackground": true,
            "ticks": "",
            "zerolinecolor": "white"
           }
          },
          "shapedefaults": {
           "line": {
            "color": "#2a3f5f"
           }
          },
          "ternary": {
           "aaxis": {
            "gridcolor": "white",
            "linecolor": "white",
            "ticks": ""
           },
           "baxis": {
            "gridcolor": "white",
            "linecolor": "white",
            "ticks": ""
           },
           "bgcolor": "#E5ECF6",
           "caxis": {
            "gridcolor": "white",
            "linecolor": "white",
            "ticks": ""
           }
          },
          "title": {
           "x": 0.05
          },
          "xaxis": {
           "automargin": true,
           "gridcolor": "white",
           "linecolor": "white",
           "ticks": "",
           "title": {
            "standoff": 15
           },
           "zerolinecolor": "white",
           "zerolinewidth": 2
          },
          "yaxis": {
           "automargin": true,
           "gridcolor": "white",
           "linecolor": "white",
           "ticks": "",
           "title": {
            "standoff": 15
           },
           "zerolinecolor": "white",
           "zerolinewidth": 2
          }
         }
        },
        "title": {
         "text": "65degrees_1_S20_L001 - 3042-O-flank_1=hp1-DB - ROI - pop_avg - 2463 reads"
        },
        "xaxis": {
         "autorange": true,
         "linecolor": "black",
         "linewidth": 1,
         "mirror": true,
         "tickangle": 90,
         "ticktext": [
          "(P) 1",
          "(P) 2",
          "(P) 3",
          "(P) 4",
          "(P) 5",
          "(P) 6",
          "(P) 7",
          "(P) 8",
          "(P) 9",
          "(U) 10",
          "(U) 11",
          "(U) 12",
          "(U) 13",
          "(P) 14",
          "(P) 15",
          "(P) 16",
          "(P) 17",
          "(P) 18",
          "(P) 19",
          "(P) 20",
          "(P) 21",
          "(P) 22"
         ],
         "tickvals": [
          0,
          1,
          2,
          3,
          4,
          5,
          6,
          7,
          8,
          9,
          10,
          11,
          12,
          13,
          14,
          15,
          16,
          17,
          18,
          19,
          20,
          21
         ],
         "title": {
          "text": "Sequence"
         }
        },
        "yaxis": {
         "autorange": true,
         "gridcolor": "lightgray",
         "linecolor": "black",
         "linewidth": 1,
         "mirror": true,
         "range": [
          0,
          0.1
         ],
         "title": {
          "text": "Mutation rate"
         }
        }
       }
      }
     },
     "metadata": {},
     "output_type": "display_data"
    }
   ],
   "source": [
    "%reload_ext autoreload\n",
    "fig = study.mutation_fraction(\n",
    "    sample = sample,\n",
    "    reference = reference,\n",
    "    section='ROI'\n",
    ")['fig']\n",
    "fig.show()"
   ]
  },
  {
   "cell_type": "code",
   "execution_count": 10,
   "metadata": {},
   "outputs": [
    {
     "data": {
      "application/vnd.plotly.v1+json": {
       "config": {
        "plotlyServerURL": "https://plot.ly"
       },
       "data": [
        {
         "marker": {
          "color": "red"
         },
         "name": "A",
         "showlegend": true,
         "type": "bar",
         "x": [
          0,
          1,
          2,
          3,
          4,
          5,
          6,
          7,
          8,
          9,
          10,
          11,
          12,
          13,
          14,
          15,
          16,
          17,
          18,
          19,
          20,
          21
         ],
         "y": [
          0,
          0,
          0.002039983680130559,
          0,
          0,
          0,
          0,
          0,
          0.0012185215272136475,
          0.002849002849002849,
          0,
          0,
          0,
          0.0012219959266802445,
          0,
          0,
          0,
          0,
          0.0004170141784820684,
          0.0036991368680641184,
          0,
          0.0004161464835622139
         ]
        },
        {
         "marker": {
          "color": "blue"
         },
         "name": "C",
         "showlegend": true,
         "type": "bar",
         "x": [
          0,
          1,
          2,
          3,
          4,
          5,
          6,
          7,
          8,
          9,
          10,
          11,
          12,
          13,
          14,
          15,
          16,
          17,
          18,
          19,
          20,
          21
         ],
         "y": [
          0.0032733224222585926,
          0,
          0,
          0,
          0,
          0,
          0.0004098360655737705,
          0.0004086636697997548,
          0,
          0,
          0.0016273393002441008,
          0.0020764119601328905,
          0.0020333468889792597,
          0,
          0,
          0,
          0.0008153281695882593,
          0.0004095004095004095,
          0.0004170141784820684,
          0,
          0.0004158004158004158,
          0.0004161464835622139
         ]
        },
        {
         "marker": {
          "color": "yellow"
         },
         "name": "G",
         "showlegend": true,
         "type": "bar",
         "x": [
          0,
          1,
          2,
          3,
          4,
          5,
          6,
          7,
          8,
          9,
          10,
          11,
          12,
          13,
          14,
          15,
          16,
          17,
          18,
          19,
          20,
          21
         ],
         "y": [
          0.0008183306055646482,
          0.002451982018798529,
          0,
          0.0008216926869350862,
          0.0008193363375665711,
          0,
          0,
          0,
          0.00040617384240454913,
          0,
          0.013425549227013833,
          0.0004152823920265781,
          0.0012200081333875558,
          0,
          0.0008213552361396304,
          0.0008169934640522876,
          0,
          0,
          0.0004170141784820684,
          0.0008220304151253596,
          0,
          0.0004161464835622139
         ]
        },
        {
         "error_y": {
          "array": [
           0.0053077732383455135,
           0.003943868652032231,
           0.0037384701643997046,
           0.002879498388190341,
           0.0021482141292766574,
           0.0015572949637301398,
           0.0018930305267831765,
           0.001892215283696091,
           0.0028692118283286947,
           0.00327912008274056,
           0.005979327225928765,
           0.0051309757824764875,
           0.0059783172682510675,
           0.0031519265262059267,
           0.0028791278301165727,
           0.0032832425658540724,
           0.0021459490854128056,
           0.00272054826390707,
           0.002373278900896613,
           0.003641048335998154,
           0.0018971686616721037,
           0.0023720180816005497
          ],
          "arrayminus": [
           0.003791258502798156,
           0.002405665984547249,
           0.00219769485348759,
           0.0013298811317587868,
           0.0005934710622507045,
           0,
           0.00033701203433478277,
           0.0003361931397156279,
           0.0013195072543486606,
           0.0017332338733234613,
           0.004476518579074452,
           0.003611190415048815,
           0.00447548646348017,
           0.0016047809390214811,
           0.0013295074206224734,
           0.001737398300386654,
           0.0005911935345872402,
           0.0011696304294305337,
           0.0008198804216461974,
           0.0020991150981741064,
           0.00034116874572884926,
           0.0008186114948085623
          ],
          "color": "black",
          "symmetric": false,
          "thickness": 1.5,
          "type": "data",
          "visible": true,
          "width": 2
         },
         "marker": {
          "color": "green"
         },
         "name": "T",
         "showlegend": true,
         "type": "bar",
         "x": [
          0,
          1,
          2,
          3,
          4,
          5,
          6,
          7,
          8,
          9,
          10,
          11,
          12,
          13,
          14,
          15,
          16,
          17,
          18,
          19,
          20,
          21
         ],
         "y": [
          0.00900163666121113,
          0.0036779730281977932,
          0.0032639738882088943,
          0.0016433853738701725,
          0,
          0,
          0,
          0,
          0.0008123476848090983,
          0.000814000814000814,
          0.0024410089503661514,
          0.009551495016611296,
          0.014233428222854819,
          0.002036659877800407,
          0.0016427104722792608,
          0.0028594771241830064,
          0,
          0.001638001638001638,
          0,
          0.0004110152075626798,
          0,
          0
         ]
        }
       ],
       "layout": {
        "barmode": "stack",
        "height": 500,
        "template": {
         "data": {
          "bar": [
           {
            "error_x": {
             "color": "#2a3f5f"
            },
            "error_y": {
             "color": "#2a3f5f"
            },
            "marker": {
             "line": {
              "color": "#E5ECF6",
              "width": 0.5
             },
             "pattern": {
              "fillmode": "overlay",
              "size": 10,
              "solidity": 0.2
             }
            },
            "type": "bar"
           }
          ],
          "barpolar": [
           {
            "marker": {
             "line": {
              "color": "#E5ECF6",
              "width": 0.5
             },
             "pattern": {
              "fillmode": "overlay",
              "size": 10,
              "solidity": 0.2
             }
            },
            "type": "barpolar"
           }
          ],
          "carpet": [
           {
            "aaxis": {
             "endlinecolor": "#2a3f5f",
             "gridcolor": "white",
             "linecolor": "white",
             "minorgridcolor": "white",
             "startlinecolor": "#2a3f5f"
            },
            "baxis": {
             "endlinecolor": "#2a3f5f",
             "gridcolor": "white",
             "linecolor": "white",
             "minorgridcolor": "white",
             "startlinecolor": "#2a3f5f"
            },
            "type": "carpet"
           }
          ],
          "choropleth": [
           {
            "colorbar": {
             "outlinewidth": 0,
             "ticks": ""
            },
            "type": "choropleth"
           }
          ],
          "contour": [
           {
            "colorbar": {
             "outlinewidth": 0,
             "ticks": ""
            },
            "colorscale": [
             [
              0,
              "#0d0887"
             ],
             [
              0.1111111111111111,
              "#46039f"
             ],
             [
              0.2222222222222222,
              "#7201a8"
             ],
             [
              0.3333333333333333,
              "#9c179e"
             ],
             [
              0.4444444444444444,
              "#bd3786"
             ],
             [
              0.5555555555555556,
              "#d8576b"
             ],
             [
              0.6666666666666666,
              "#ed7953"
             ],
             [
              0.7777777777777778,
              "#fb9f3a"
             ],
             [
              0.8888888888888888,
              "#fdca26"
             ],
             [
              1,
              "#f0f921"
             ]
            ],
            "type": "contour"
           }
          ],
          "contourcarpet": [
           {
            "colorbar": {
             "outlinewidth": 0,
             "ticks": ""
            },
            "type": "contourcarpet"
           }
          ],
          "heatmap": [
           {
            "colorbar": {
             "outlinewidth": 0,
             "ticks": ""
            },
            "colorscale": [
             [
              0,
              "#0d0887"
             ],
             [
              0.1111111111111111,
              "#46039f"
             ],
             [
              0.2222222222222222,
              "#7201a8"
             ],
             [
              0.3333333333333333,
              "#9c179e"
             ],
             [
              0.4444444444444444,
              "#bd3786"
             ],
             [
              0.5555555555555556,
              "#d8576b"
             ],
             [
              0.6666666666666666,
              "#ed7953"
             ],
             [
              0.7777777777777778,
              "#fb9f3a"
             ],
             [
              0.8888888888888888,
              "#fdca26"
             ],
             [
              1,
              "#f0f921"
             ]
            ],
            "type": "heatmap"
           }
          ],
          "heatmapgl": [
           {
            "colorbar": {
             "outlinewidth": 0,
             "ticks": ""
            },
            "colorscale": [
             [
              0,
              "#0d0887"
             ],
             [
              0.1111111111111111,
              "#46039f"
             ],
             [
              0.2222222222222222,
              "#7201a8"
             ],
             [
              0.3333333333333333,
              "#9c179e"
             ],
             [
              0.4444444444444444,
              "#bd3786"
             ],
             [
              0.5555555555555556,
              "#d8576b"
             ],
             [
              0.6666666666666666,
              "#ed7953"
             ],
             [
              0.7777777777777778,
              "#fb9f3a"
             ],
             [
              0.8888888888888888,
              "#fdca26"
             ],
             [
              1,
              "#f0f921"
             ]
            ],
            "type": "heatmapgl"
           }
          ],
          "histogram": [
           {
            "marker": {
             "pattern": {
              "fillmode": "overlay",
              "size": 10,
              "solidity": 0.2
             }
            },
            "type": "histogram"
           }
          ],
          "histogram2d": [
           {
            "colorbar": {
             "outlinewidth": 0,
             "ticks": ""
            },
            "colorscale": [
             [
              0,
              "#0d0887"
             ],
             [
              0.1111111111111111,
              "#46039f"
             ],
             [
              0.2222222222222222,
              "#7201a8"
             ],
             [
              0.3333333333333333,
              "#9c179e"
             ],
             [
              0.4444444444444444,
              "#bd3786"
             ],
             [
              0.5555555555555556,
              "#d8576b"
             ],
             [
              0.6666666666666666,
              "#ed7953"
             ],
             [
              0.7777777777777778,
              "#fb9f3a"
             ],
             [
              0.8888888888888888,
              "#fdca26"
             ],
             [
              1,
              "#f0f921"
             ]
            ],
            "type": "histogram2d"
           }
          ],
          "histogram2dcontour": [
           {
            "colorbar": {
             "outlinewidth": 0,
             "ticks": ""
            },
            "colorscale": [
             [
              0,
              "#0d0887"
             ],
             [
              0.1111111111111111,
              "#46039f"
             ],
             [
              0.2222222222222222,
              "#7201a8"
             ],
             [
              0.3333333333333333,
              "#9c179e"
             ],
             [
              0.4444444444444444,
              "#bd3786"
             ],
             [
              0.5555555555555556,
              "#d8576b"
             ],
             [
              0.6666666666666666,
              "#ed7953"
             ],
             [
              0.7777777777777778,
              "#fb9f3a"
             ],
             [
              0.8888888888888888,
              "#fdca26"
             ],
             [
              1,
              "#f0f921"
             ]
            ],
            "type": "histogram2dcontour"
           }
          ],
          "mesh3d": [
           {
            "colorbar": {
             "outlinewidth": 0,
             "ticks": ""
            },
            "type": "mesh3d"
           }
          ],
          "parcoords": [
           {
            "line": {
             "colorbar": {
              "outlinewidth": 0,
              "ticks": ""
             }
            },
            "type": "parcoords"
           }
          ],
          "pie": [
           {
            "automargin": true,
            "type": "pie"
           }
          ],
          "scatter": [
           {
            "fillpattern": {
             "fillmode": "overlay",
             "size": 10,
             "solidity": 0.2
            },
            "type": "scatter"
           }
          ],
          "scatter3d": [
           {
            "line": {
             "colorbar": {
              "outlinewidth": 0,
              "ticks": ""
             }
            },
            "marker": {
             "colorbar": {
              "outlinewidth": 0,
              "ticks": ""
             }
            },
            "type": "scatter3d"
           }
          ],
          "scattercarpet": [
           {
            "marker": {
             "colorbar": {
              "outlinewidth": 0,
              "ticks": ""
             }
            },
            "type": "scattercarpet"
           }
          ],
          "scattergeo": [
           {
            "marker": {
             "colorbar": {
              "outlinewidth": 0,
              "ticks": ""
             }
            },
            "type": "scattergeo"
           }
          ],
          "scattergl": [
           {
            "marker": {
             "colorbar": {
              "outlinewidth": 0,
              "ticks": ""
             }
            },
            "type": "scattergl"
           }
          ],
          "scattermapbox": [
           {
            "marker": {
             "colorbar": {
              "outlinewidth": 0,
              "ticks": ""
             }
            },
            "type": "scattermapbox"
           }
          ],
          "scatterpolar": [
           {
            "marker": {
             "colorbar": {
              "outlinewidth": 0,
              "ticks": ""
             }
            },
            "type": "scatterpolar"
           }
          ],
          "scatterpolargl": [
           {
            "marker": {
             "colorbar": {
              "outlinewidth": 0,
              "ticks": ""
             }
            },
            "type": "scatterpolargl"
           }
          ],
          "scatterternary": [
           {
            "marker": {
             "colorbar": {
              "outlinewidth": 0,
              "ticks": ""
             }
            },
            "type": "scatterternary"
           }
          ],
          "surface": [
           {
            "colorbar": {
             "outlinewidth": 0,
             "ticks": ""
            },
            "colorscale": [
             [
              0,
              "#0d0887"
             ],
             [
              0.1111111111111111,
              "#46039f"
             ],
             [
              0.2222222222222222,
              "#7201a8"
             ],
             [
              0.3333333333333333,
              "#9c179e"
             ],
             [
              0.4444444444444444,
              "#bd3786"
             ],
             [
              0.5555555555555556,
              "#d8576b"
             ],
             [
              0.6666666666666666,
              "#ed7953"
             ],
             [
              0.7777777777777778,
              "#fb9f3a"
             ],
             [
              0.8888888888888888,
              "#fdca26"
             ],
             [
              1,
              "#f0f921"
             ]
            ],
            "type": "surface"
           }
          ],
          "table": [
           {
            "cells": {
             "fill": {
              "color": "#EBF0F8"
             },
             "line": {
              "color": "white"
             }
            },
            "header": {
             "fill": {
              "color": "#C8D4E3"
             },
             "line": {
              "color": "white"
             }
            },
            "type": "table"
           }
          ]
         },
         "layout": {
          "annotationdefaults": {
           "arrowcolor": "#2a3f5f",
           "arrowhead": 0,
           "arrowwidth": 1
          },
          "autotypenumbers": "strict",
          "coloraxis": {
           "colorbar": {
            "outlinewidth": 0,
            "ticks": ""
           }
          },
          "colorscale": {
           "diverging": [
            [
             0,
             "#8e0152"
            ],
            [
             0.1,
             "#c51b7d"
            ],
            [
             0.2,
             "#de77ae"
            ],
            [
             0.3,
             "#f1b6da"
            ],
            [
             0.4,
             "#fde0ef"
            ],
            [
             0.5,
             "#f7f7f7"
            ],
            [
             0.6,
             "#e6f5d0"
            ],
            [
             0.7,
             "#b8e186"
            ],
            [
             0.8,
             "#7fbc41"
            ],
            [
             0.9,
             "#4d9221"
            ],
            [
             1,
             "#276419"
            ]
           ],
           "sequential": [
            [
             0,
             "#0d0887"
            ],
            [
             0.1111111111111111,
             "#46039f"
            ],
            [
             0.2222222222222222,
             "#7201a8"
            ],
            [
             0.3333333333333333,
             "#9c179e"
            ],
            [
             0.4444444444444444,
             "#bd3786"
            ],
            [
             0.5555555555555556,
             "#d8576b"
            ],
            [
             0.6666666666666666,
             "#ed7953"
            ],
            [
             0.7777777777777778,
             "#fb9f3a"
            ],
            [
             0.8888888888888888,
             "#fdca26"
            ],
            [
             1,
             "#f0f921"
            ]
           ],
           "sequentialminus": [
            [
             0,
             "#0d0887"
            ],
            [
             0.1111111111111111,
             "#46039f"
            ],
            [
             0.2222222222222222,
             "#7201a8"
            ],
            [
             0.3333333333333333,
             "#9c179e"
            ],
            [
             0.4444444444444444,
             "#bd3786"
            ],
            [
             0.5555555555555556,
             "#d8576b"
            ],
            [
             0.6666666666666666,
             "#ed7953"
            ],
            [
             0.7777777777777778,
             "#fb9f3a"
            ],
            [
             0.8888888888888888,
             "#fdca26"
            ],
            [
             1,
             "#f0f921"
            ]
           ]
          },
          "colorway": [
           "#636efa",
           "#EF553B",
           "#00cc96",
           "#ab63fa",
           "#FFA15A",
           "#19d3f3",
           "#FF6692",
           "#B6E880",
           "#FF97FF",
           "#FECB52"
          ],
          "font": {
           "color": "#2a3f5f"
          },
          "geo": {
           "bgcolor": "white",
           "lakecolor": "white",
           "landcolor": "#E5ECF6",
           "showlakes": true,
           "showland": true,
           "subunitcolor": "white"
          },
          "hoverlabel": {
           "align": "left"
          },
          "hovermode": "closest",
          "mapbox": {
           "style": "light"
          },
          "paper_bgcolor": "white",
          "plot_bgcolor": "#E5ECF6",
          "polar": {
           "angularaxis": {
            "gridcolor": "white",
            "linecolor": "white",
            "ticks": ""
           },
           "bgcolor": "#E5ECF6",
           "radialaxis": {
            "gridcolor": "white",
            "linecolor": "white",
            "ticks": ""
           }
          },
          "scene": {
           "xaxis": {
            "backgroundcolor": "#E5ECF6",
            "gridcolor": "white",
            "gridwidth": 2,
            "linecolor": "white",
            "showbackground": true,
            "ticks": "",
            "zerolinecolor": "white"
           },
           "yaxis": {
            "backgroundcolor": "#E5ECF6",
            "gridcolor": "white",
            "gridwidth": 2,
            "linecolor": "white",
            "showbackground": true,
            "ticks": "",
            "zerolinecolor": "white"
           },
           "zaxis": {
            "backgroundcolor": "#E5ECF6",
            "gridcolor": "white",
            "gridwidth": 2,
            "linecolor": "white",
            "showbackground": true,
            "ticks": "",
            "zerolinecolor": "white"
           }
          },
          "shapedefaults": {
           "line": {
            "color": "#2a3f5f"
           }
          },
          "ternary": {
           "aaxis": {
            "gridcolor": "white",
            "linecolor": "white",
            "ticks": ""
           },
           "baxis": {
            "gridcolor": "white",
            "linecolor": "white",
            "ticks": ""
           },
           "bgcolor": "#E5ECF6",
           "caxis": {
            "gridcolor": "white",
            "linecolor": "white",
            "ticks": ""
           }
          },
          "title": {
           "x": 0.05
          },
          "xaxis": {
           "automargin": true,
           "gridcolor": "white",
           "linecolor": "white",
           "ticks": "",
           "title": {
            "standoff": 15
           },
           "zerolinecolor": "white",
           "zerolinewidth": 2
          },
          "yaxis": {
           "automargin": true,
           "gridcolor": "white",
           "linecolor": "white",
           "ticks": "",
           "title": {
            "standoff": 15
           },
           "zerolinecolor": "white",
           "zerolinewidth": 2
          }
         }
        },
        "title": {
         "text": "Mutation fraction identity - 65degrees_1_S20_L001 - 3042-O-flank_1=hp1-DB - ROI - pop_avg - 2463 reads"
        },
        "width": 1500,
        "xaxis": {
         "tickangle": 0,
         "tickfont": {
          "size": 8
         },
         "ticktext": [
          "A",
          "A",
          "G",
          "A",
          "T",
          "A",
          "T",
          "T",
          "C",
          "G",
          "A",
          "A",
          "A",
          "G",
          "A",
          "A",
          "T",
          "A",
          "T",
          "C",
          "T",
          "T"
         ],
         "tickvals": [
          0,
          1,
          2,
          3,
          4,
          5,
          6,
          7,
          8,
          9,
          10,
          11,
          12,
          13,
          14,
          15,
          16,
          17,
          18,
          19,
          20,
          21
         ],
         "title": {
          "text": "Position"
         }
        },
        "yaxis": {
         "title": {
          "text": "Mutation fraction"
         }
        }
       }
      }
     },
     "metadata": {},
     "output_type": "display_data"
    }
   ],
   "source": [
    "%reload_ext autoreload\n",
    "fig = study.mutation_fraction_identity(\n",
    "    sample = sample,\n",
    "    reference = reference,\n",
    "    section='ROI'\n",
    ")['fig']\n",
    "fig.show()"
   ]
  },
  {
   "attachments": {},
   "cell_type": "markdown",
   "metadata": {},
   "source": [
    "## Mutations in barcode"
   ]
  },
  {
   "cell_type": "code",
   "execution_count": 10,
   "metadata": {},
   "outputs": [
    {
     "data": {
      "application/vnd.plotly.v1+json": {
       "config": {
        "plotlyServerURL": "https://plot.ly"
       },
       "data": [
        {
         "hovertemplate": "Number of mutations: %{x}<br>Number of reads: %{y}<extra></extra>",
         "name": "37degrees_01percent_2_S17_L001",
         "type": "bar",
         "visible": true,
         "x": [
          0,
          1,
          2,
          3,
          4,
          5,
          6,
          7,
          8,
          9,
          10
         ],
         "y": [
          81814,
          12410,
          1760,
          506,
          207,
          75,
          41,
          15,
          1,
          2,
          1,
          0,
          0,
          0,
          0,
          0,
          0,
          0,
          0,
          0,
          0,
          0,
          0,
          0,
          0,
          0,
          0,
          0,
          0,
          0,
          0,
          0,
          0,
          0,
          0,
          0,
          0,
          0,
          0,
          0,
          0,
          0,
          0,
          0,
          0,
          0,
          0,
          0,
          0,
          0,
          0,
          0,
          0,
          0,
          0,
          0,
          0,
          0,
          0,
          0,
          0,
          0,
          0,
          0,
          0,
          0,
          0,
          0,
          0,
          0,
          0,
          0,
          0,
          0,
          0,
          0,
          0,
          0,
          0,
          0,
          0,
          0,
          0,
          0,
          0,
          0,
          0,
          0,
          0,
          0,
          0,
          0,
          0,
          0,
          0,
          0,
          0,
          0,
          0,
          0,
          0,
          0,
          0,
          0,
          0,
          0,
          0,
          0,
          0,
          0,
          0,
          0,
          0,
          0,
          0,
          0,
          0,
          0,
          0,
          0,
          0,
          0,
          0,
          0,
          0,
          0,
          0,
          0,
          0,
          0,
          0,
          0,
          0,
          0,
          0,
          0,
          0,
          0,
          0,
          0,
          0,
          0,
          0,
          0,
          0,
          0,
          0,
          0,
          0,
          0,
          0,
          0,
          0,
          0,
          0,
          0,
          0,
          0,
          0,
          0,
          0,
          0,
          0,
          0,
          0,
          0,
          0,
          0,
          0
         ]
        },
        {
         "hovertemplate": "Number of mutations: %{x}<br>Number of reads: %{y}<extra></extra>",
         "name": "10degrees_2_S11_L001",
         "type": "bar",
         "visible": false,
         "x": [
          0,
          1,
          2,
          3,
          4,
          5,
          6,
          7,
          8,
          9,
          10
         ],
         "y": [
          15483,
          1774,
          269,
          75,
          31,
          10,
          3,
          1,
          0,
          1,
          0,
          0,
          0,
          0,
          0,
          0,
          0,
          0,
          0,
          0,
          0,
          0,
          0,
          0,
          0,
          0,
          0,
          0,
          0,
          0,
          0,
          0,
          0,
          0,
          0,
          0,
          0,
          0,
          0,
          0,
          0,
          0,
          0,
          0,
          0,
          0,
          0,
          0,
          0,
          0,
          0,
          0,
          0,
          0,
          0,
          0,
          0,
          0,
          0,
          0,
          0,
          0,
          0,
          0,
          0,
          0,
          0,
          0,
          0,
          0,
          0,
          0,
          0,
          0,
          0,
          0,
          0,
          0,
          0,
          0,
          0,
          0,
          0,
          0,
          0,
          0,
          0,
          0,
          0,
          0,
          0,
          0,
          0,
          0,
          0,
          0,
          0,
          0,
          0,
          0,
          0,
          0,
          0,
          0,
          0,
          0,
          0,
          0,
          0,
          0,
          0,
          0,
          0,
          0,
          0,
          0,
          0,
          0,
          0,
          0,
          0,
          0,
          0,
          0,
          0,
          0,
          0,
          0,
          0,
          0,
          0,
          0,
          0,
          0,
          0,
          0,
          0,
          0,
          0,
          0,
          0,
          0,
          0,
          0,
          0,
          0,
          0,
          0,
          0,
          0,
          0,
          0,
          0,
          0,
          0,
          0,
          0,
          0,
          0,
          0,
          0,
          0,
          0,
          0,
          0,
          0,
          0,
          0,
          0
         ]
        }
       ],
       "layout": {
        "barmode": "stack",
        "template": {
         "data": {
          "bar": [
           {
            "error_x": {
             "color": "#2a3f5f"
            },
            "error_y": {
             "color": "#2a3f5f"
            },
            "marker": {
             "line": {
              "color": "#E5ECF6",
              "width": 0.5
             },
             "pattern": {
              "fillmode": "overlay",
              "size": 10,
              "solidity": 0.2
             }
            },
            "type": "bar"
           }
          ],
          "barpolar": [
           {
            "marker": {
             "line": {
              "color": "#E5ECF6",
              "width": 0.5
             },
             "pattern": {
              "fillmode": "overlay",
              "size": 10,
              "solidity": 0.2
             }
            },
            "type": "barpolar"
           }
          ],
          "carpet": [
           {
            "aaxis": {
             "endlinecolor": "#2a3f5f",
             "gridcolor": "white",
             "linecolor": "white",
             "minorgridcolor": "white",
             "startlinecolor": "#2a3f5f"
            },
            "baxis": {
             "endlinecolor": "#2a3f5f",
             "gridcolor": "white",
             "linecolor": "white",
             "minorgridcolor": "white",
             "startlinecolor": "#2a3f5f"
            },
            "type": "carpet"
           }
          ],
          "choropleth": [
           {
            "colorbar": {
             "outlinewidth": 0,
             "ticks": ""
            },
            "type": "choropleth"
           }
          ],
          "contour": [
           {
            "colorbar": {
             "outlinewidth": 0,
             "ticks": ""
            },
            "colorscale": [
             [
              0,
              "#0d0887"
             ],
             [
              0.1111111111111111,
              "#46039f"
             ],
             [
              0.2222222222222222,
              "#7201a8"
             ],
             [
              0.3333333333333333,
              "#9c179e"
             ],
             [
              0.4444444444444444,
              "#bd3786"
             ],
             [
              0.5555555555555556,
              "#d8576b"
             ],
             [
              0.6666666666666666,
              "#ed7953"
             ],
             [
              0.7777777777777778,
              "#fb9f3a"
             ],
             [
              0.8888888888888888,
              "#fdca26"
             ],
             [
              1,
              "#f0f921"
             ]
            ],
            "type": "contour"
           }
          ],
          "contourcarpet": [
           {
            "colorbar": {
             "outlinewidth": 0,
             "ticks": ""
            },
            "type": "contourcarpet"
           }
          ],
          "heatmap": [
           {
            "colorbar": {
             "outlinewidth": 0,
             "ticks": ""
            },
            "colorscale": [
             [
              0,
              "#0d0887"
             ],
             [
              0.1111111111111111,
              "#46039f"
             ],
             [
              0.2222222222222222,
              "#7201a8"
             ],
             [
              0.3333333333333333,
              "#9c179e"
             ],
             [
              0.4444444444444444,
              "#bd3786"
             ],
             [
              0.5555555555555556,
              "#d8576b"
             ],
             [
              0.6666666666666666,
              "#ed7953"
             ],
             [
              0.7777777777777778,
              "#fb9f3a"
             ],
             [
              0.8888888888888888,
              "#fdca26"
             ],
             [
              1,
              "#f0f921"
             ]
            ],
            "type": "heatmap"
           }
          ],
          "heatmapgl": [
           {
            "colorbar": {
             "outlinewidth": 0,
             "ticks": ""
            },
            "colorscale": [
             [
              0,
              "#0d0887"
             ],
             [
              0.1111111111111111,
              "#46039f"
             ],
             [
              0.2222222222222222,
              "#7201a8"
             ],
             [
              0.3333333333333333,
              "#9c179e"
             ],
             [
              0.4444444444444444,
              "#bd3786"
             ],
             [
              0.5555555555555556,
              "#d8576b"
             ],
             [
              0.6666666666666666,
              "#ed7953"
             ],
             [
              0.7777777777777778,
              "#fb9f3a"
             ],
             [
              0.8888888888888888,
              "#fdca26"
             ],
             [
              1,
              "#f0f921"
             ]
            ],
            "type": "heatmapgl"
           }
          ],
          "histogram": [
           {
            "marker": {
             "pattern": {
              "fillmode": "overlay",
              "size": 10,
              "solidity": 0.2
             }
            },
            "type": "histogram"
           }
          ],
          "histogram2d": [
           {
            "colorbar": {
             "outlinewidth": 0,
             "ticks": ""
            },
            "colorscale": [
             [
              0,
              "#0d0887"
             ],
             [
              0.1111111111111111,
              "#46039f"
             ],
             [
              0.2222222222222222,
              "#7201a8"
             ],
             [
              0.3333333333333333,
              "#9c179e"
             ],
             [
              0.4444444444444444,
              "#bd3786"
             ],
             [
              0.5555555555555556,
              "#d8576b"
             ],
             [
              0.6666666666666666,
              "#ed7953"
             ],
             [
              0.7777777777777778,
              "#fb9f3a"
             ],
             [
              0.8888888888888888,
              "#fdca26"
             ],
             [
              1,
              "#f0f921"
             ]
            ],
            "type": "histogram2d"
           }
          ],
          "histogram2dcontour": [
           {
            "colorbar": {
             "outlinewidth": 0,
             "ticks": ""
            },
            "colorscale": [
             [
              0,
              "#0d0887"
             ],
             [
              0.1111111111111111,
              "#46039f"
             ],
             [
              0.2222222222222222,
              "#7201a8"
             ],
             [
              0.3333333333333333,
              "#9c179e"
             ],
             [
              0.4444444444444444,
              "#bd3786"
             ],
             [
              0.5555555555555556,
              "#d8576b"
             ],
             [
              0.6666666666666666,
              "#ed7953"
             ],
             [
              0.7777777777777778,
              "#fb9f3a"
             ],
             [
              0.8888888888888888,
              "#fdca26"
             ],
             [
              1,
              "#f0f921"
             ]
            ],
            "type": "histogram2dcontour"
           }
          ],
          "mesh3d": [
           {
            "colorbar": {
             "outlinewidth": 0,
             "ticks": ""
            },
            "type": "mesh3d"
           }
          ],
          "parcoords": [
           {
            "line": {
             "colorbar": {
              "outlinewidth": 0,
              "ticks": ""
             }
            },
            "type": "parcoords"
           }
          ],
          "pie": [
           {
            "automargin": true,
            "type": "pie"
           }
          ],
          "scatter": [
           {
            "fillpattern": {
             "fillmode": "overlay",
             "size": 10,
             "solidity": 0.2
            },
            "type": "scatter"
           }
          ],
          "scatter3d": [
           {
            "line": {
             "colorbar": {
              "outlinewidth": 0,
              "ticks": ""
             }
            },
            "marker": {
             "colorbar": {
              "outlinewidth": 0,
              "ticks": ""
             }
            },
            "type": "scatter3d"
           }
          ],
          "scattercarpet": [
           {
            "marker": {
             "colorbar": {
              "outlinewidth": 0,
              "ticks": ""
             }
            },
            "type": "scattercarpet"
           }
          ],
          "scattergeo": [
           {
            "marker": {
             "colorbar": {
              "outlinewidth": 0,
              "ticks": ""
             }
            },
            "type": "scattergeo"
           }
          ],
          "scattergl": [
           {
            "marker": {
             "colorbar": {
              "outlinewidth": 0,
              "ticks": ""
             }
            },
            "type": "scattergl"
           }
          ],
          "scattermapbox": [
           {
            "marker": {
             "colorbar": {
              "outlinewidth": 0,
              "ticks": ""
             }
            },
            "type": "scattermapbox"
           }
          ],
          "scatterpolar": [
           {
            "marker": {
             "colorbar": {
              "outlinewidth": 0,
              "ticks": ""
             }
            },
            "type": "scatterpolar"
           }
          ],
          "scatterpolargl": [
           {
            "marker": {
             "colorbar": {
              "outlinewidth": 0,
              "ticks": ""
             }
            },
            "type": "scatterpolargl"
           }
          ],
          "scatterternary": [
           {
            "marker": {
             "colorbar": {
              "outlinewidth": 0,
              "ticks": ""
             }
            },
            "type": "scatterternary"
           }
          ],
          "surface": [
           {
            "colorbar": {
             "outlinewidth": 0,
             "ticks": ""
            },
            "colorscale": [
             [
              0,
              "#0d0887"
             ],
             [
              0.1111111111111111,
              "#46039f"
             ],
             [
              0.2222222222222222,
              "#7201a8"
             ],
             [
              0.3333333333333333,
              "#9c179e"
             ],
             [
              0.4444444444444444,
              "#bd3786"
             ],
             [
              0.5555555555555556,
              "#d8576b"
             ],
             [
              0.6666666666666666,
              "#ed7953"
             ],
             [
              0.7777777777777778,
              "#fb9f3a"
             ],
             [
              0.8888888888888888,
              "#fdca26"
             ],
             [
              1,
              "#f0f921"
             ]
            ],
            "type": "surface"
           }
          ],
          "table": [
           {
            "cells": {
             "fill": {
              "color": "#EBF0F8"
             },
             "line": {
              "color": "white"
             }
            },
            "header": {
             "fill": {
              "color": "#C8D4E3"
             },
             "line": {
              "color": "white"
             }
            },
            "type": "table"
           }
          ]
         },
         "layout": {
          "annotationdefaults": {
           "arrowcolor": "#2a3f5f",
           "arrowhead": 0,
           "arrowwidth": 1
          },
          "autotypenumbers": "strict",
          "coloraxis": {
           "colorbar": {
            "outlinewidth": 0,
            "ticks": ""
           }
          },
          "colorscale": {
           "diverging": [
            [
             0,
             "#8e0152"
            ],
            [
             0.1,
             "#c51b7d"
            ],
            [
             0.2,
             "#de77ae"
            ],
            [
             0.3,
             "#f1b6da"
            ],
            [
             0.4,
             "#fde0ef"
            ],
            [
             0.5,
             "#f7f7f7"
            ],
            [
             0.6,
             "#e6f5d0"
            ],
            [
             0.7,
             "#b8e186"
            ],
            [
             0.8,
             "#7fbc41"
            ],
            [
             0.9,
             "#4d9221"
            ],
            [
             1,
             "#276419"
            ]
           ],
           "sequential": [
            [
             0,
             "#0d0887"
            ],
            [
             0.1111111111111111,
             "#46039f"
            ],
            [
             0.2222222222222222,
             "#7201a8"
            ],
            [
             0.3333333333333333,
             "#9c179e"
            ],
            [
             0.4444444444444444,
             "#bd3786"
            ],
            [
             0.5555555555555556,
             "#d8576b"
            ],
            [
             0.6666666666666666,
             "#ed7953"
            ],
            [
             0.7777777777777778,
             "#fb9f3a"
            ],
            [
             0.8888888888888888,
             "#fdca26"
            ],
            [
             1,
             "#f0f921"
            ]
           ],
           "sequentialminus": [
            [
             0,
             "#0d0887"
            ],
            [
             0.1111111111111111,
             "#46039f"
            ],
            [
             0.2222222222222222,
             "#7201a8"
            ],
            [
             0.3333333333333333,
             "#9c179e"
            ],
            [
             0.4444444444444444,
             "#bd3786"
            ],
            [
             0.5555555555555556,
             "#d8576b"
            ],
            [
             0.6666666666666666,
             "#ed7953"
            ],
            [
             0.7777777777777778,
             "#fb9f3a"
            ],
            [
             0.8888888888888888,
             "#fdca26"
            ],
            [
             1,
             "#f0f921"
            ]
           ]
          },
          "colorway": [
           "#636efa",
           "#EF553B",
           "#00cc96",
           "#ab63fa",
           "#FFA15A",
           "#19d3f3",
           "#FF6692",
           "#B6E880",
           "#FF97FF",
           "#FECB52"
          ],
          "font": {
           "color": "#2a3f5f"
          },
          "geo": {
           "bgcolor": "white",
           "lakecolor": "white",
           "landcolor": "#E5ECF6",
           "showlakes": true,
           "showland": true,
           "subunitcolor": "white"
          },
          "hoverlabel": {
           "align": "left"
          },
          "hovermode": "closest",
          "mapbox": {
           "style": "light"
          },
          "paper_bgcolor": "white",
          "plot_bgcolor": "#E5ECF6",
          "polar": {
           "angularaxis": {
            "gridcolor": "white",
            "linecolor": "white",
            "ticks": ""
           },
           "bgcolor": "#E5ECF6",
           "radialaxis": {
            "gridcolor": "white",
            "linecolor": "white",
            "ticks": ""
           }
          },
          "scene": {
           "xaxis": {
            "backgroundcolor": "#E5ECF6",
            "gridcolor": "white",
            "gridwidth": 2,
            "linecolor": "white",
            "showbackground": true,
            "ticks": "",
            "zerolinecolor": "white"
           },
           "yaxis": {
            "backgroundcolor": "#E5ECF6",
            "gridcolor": "white",
            "gridwidth": 2,
            "linecolor": "white",
            "showbackground": true,
            "ticks": "",
            "zerolinecolor": "white"
           },
           "zaxis": {
            "backgroundcolor": "#E5ECF6",
            "gridcolor": "white",
            "gridwidth": 2,
            "linecolor": "white",
            "showbackground": true,
            "ticks": "",
            "zerolinecolor": "white"
           }
          },
          "shapedefaults": {
           "line": {
            "color": "#2a3f5f"
           }
          },
          "ternary": {
           "aaxis": {
            "gridcolor": "white",
            "linecolor": "white",
            "ticks": ""
           },
           "baxis": {
            "gridcolor": "white",
            "linecolor": "white",
            "ticks": ""
           },
           "bgcolor": "#E5ECF6",
           "caxis": {
            "gridcolor": "white",
            "linecolor": "white",
            "ticks": ""
           }
          },
          "title": {
           "x": 0.05
          },
          "xaxis": {
           "automargin": true,
           "gridcolor": "white",
           "linecolor": "white",
           "ticks": "",
           "title": {
            "standoff": 15
           },
           "zerolinecolor": "white",
           "zerolinewidth": 2
          },
          "yaxis": {
           "automargin": true,
           "gridcolor": "white",
           "linecolor": "white",
           "ticks": "",
           "title": {
            "standoff": 15
           },
           "zerolinecolor": "white",
           "zerolinewidth": 2
          }
         }
        },
        "title": {
         "text": "Number of mutations in barcodes - 37degrees_01percent_2_S17_L001"
        },
        "updatemenus": [
         {
          "active": 0,
          "buttons": [
           {
            "args": [
             {
              "visible": [
               true,
               false
              ]
             },
             {
              "title": "Number of mutations in barcodes - 37degrees_01percent_2_S17_L001"
             }
            ],
            "label": "37degrees_01percent_2_S17_L001",
            "method": "update"
           },
           {
            "args": [
             {
              "visible": [
               false,
               true
              ]
             },
             {
              "title": "Number of mutations in barcodes - 10degrees_2_S11_L001"
             }
            ],
            "label": "10degrees_2_S11_L001",
            "method": "update"
           }
          ],
          "x": 0.7,
          "xanchor": "left",
          "y": 1.1,
          "yanchor": "top"
         }
        ]
       }
      }
     },
     "metadata": {},
     "output_type": "display_data"
    }
   ],
   "source": [
    "%reload_ext autoreload\n",
    "\n",
    "fig = study.mutations_in_barcodes(\n",
    "    sample = ['10degrees_2_S11_L001','37degrees_01percent_2_S17_L001']\n",
    "    )['fig']\n",
    "fig.show()\n"
   ]
  },
  {
   "attachments": {},
   "cell_type": "markdown",
   "metadata": {},
   "source": [
    "## DeltaG vs mutation fraction"
   ]
  },
  {
   "cell_type": "code",
   "execution_count": 157,
   "metadata": {},
   "outputs": [
    {
     "data": {
      "application/vnd.plotly.v1+json": {
       "config": {
        "plotlyServerURL": "https://plot.ly"
       },
       "data": [
        {
         "hovertemplate": "<b>num_aligned: %{text[0]}<br><b>sub_rate: %{text[1]}<br><b>base: %{text[2]}<br><b>index: %{text[3]}<br><b>reference: %{text[4]}<br><b>deltaG: %{text[5]}<br>",
         "line": {
          "color": "green"
         },
         "marker": {
          "size": [
           12.315,
           12.315,
           12.315,
           12.315,
           12.315,
           12.315,
           12.315,
           12.315,
           12.315,
           20.985,
           20.985,
           20.985,
           20.985,
           20.985,
           20.985,
           20.985,
           20.985,
           20.985,
           12.205,
           12.205,
           12.205,
           12.205,
           12.205,
           12.205,
           12.205,
           12.205,
           16.14,
           16.14,
           16.14,
           16.14,
           16.14,
           16.14,
           16.14,
           16.14,
           13.85,
           13.85,
           13.85,
           13.85,
           13.85,
           13.85,
           13.85,
           16.755,
           16.755,
           16.755,
           16.755,
           16.755,
           16.755,
           8.765,
           8.765,
           8.765,
           8.765,
           8.765,
           4.08,
           4.08,
           4.08,
           4.08
          ]
         },
         "mode": "markers",
         "name": "Paired ",
         "text": [
          [
           2463,
           0.01309328968903437,
           "A",
           0,
           "3042-O-flank_1=hp1-DB",
           -8.4
          ],
          [
           2463,
           0.006129955046996322,
           "A",
           1,
           "3042-O-flank_1=hp1-DB",
           -8.4
          ],
          [
           2463,
           0.0024650780608052587,
           "A",
           3,
           "3042-O-flank_1=hp1-DB",
           -8.4
          ],
          [
           2463,
           0,
           "A",
           5,
           "3042-O-flank_1=hp1-DB",
           -8.4
          ],
          [
           2463,
           0.002437043054427295,
           "C",
           8,
           "3042-O-flank_1=hp1-DB",
           -8.4
          ],
          [
           2463,
           0.0024640657084188913,
           "A",
           14,
           "3042-O-flank_1=hp1-DB",
           -8.4
          ],
          [
           2463,
           0.003676470588235294,
           "A",
           15,
           "3042-O-flank_1=hp1-DB",
           -8.4
          ],
          [
           2463,
           0.0020475020475020475,
           "A",
           17,
           "3042-O-flank_1=hp1-DB",
           -8.4
          ],
          [
           2463,
           0.004932182490752158,
           "C",
           19,
           "3042-O-flank_1=hp1-DB",
           -8.4
          ],
          [
           4197,
           0.009580838323353293,
           "A",
           0,
           "3043-CC-flank_1=hp1-DB",
           -8.4
          ],
          [
           4197,
           0.006468615237182559,
           "A",
           1,
           "3043-CC-flank_1=hp1-DB",
           -8.4
          ],
          [
           4197,
           0.002406159769008662,
           "A",
           3,
           "3043-CC-flank_1=hp1-DB",
           -8.4
          ],
          [
           4197,
           0.0016818837097549255,
           "A",
           5,
           "3043-CC-flank_1=hp1-DB",
           -8.4
          ],
          [
           4197,
           0.005021520803443328,
           "C",
           8,
           "3043-CC-flank_1=hp1-DB",
           -8.4
          ],
          [
           4197,
           0.005068790731354091,
           "A",
           14,
           "3043-CC-flank_1=hp1-DB",
           -8.4
          ],
          [
           4197,
           0.0023963575365444525,
           "A",
           15,
           "3043-CC-flank_1=hp1-DB",
           -8.4
          ],
          [
           4197,
           0.0021691973969631237,
           "A",
           17,
           "3043-CC-flank_1=hp1-DB",
           -8.4
          ],
          [
           4197,
           0.006211180124223602,
           "C",
           19,
           "3043-CC-flank_1=hp1-DB",
           -8.4
          ],
          [
           2441,
           0.006155108740254411,
           "A",
           0,
           "3044-O-flank_1=hp1-DB",
           -7.5
          ],
          [
           2441,
           0.002883031301482702,
           "A",
           2,
           "3044-O-flank_1=hp1-DB",
           -7.5
          ],
          [
           2441,
           0.003711340206185567,
           "A",
           4,
           "3044-O-flank_1=hp1-DB",
           -7.5
          ],
          [
           2441,
           0.0012315270935960591,
           "C",
           7,
           "3044-O-flank_1=hp1-DB",
           -7.5
          ],
          [
           2441,
           0.002477291494632535,
           "A",
           13,
           "3044-O-flank_1=hp1-DB",
           -7.5
          ],
          [
           2441,
           0.003703703703703704,
           "A",
           14,
           "3044-O-flank_1=hp1-DB",
           -7.5
          ],
          [
           2441,
           0.0024783147459727386,
           "A",
           16,
           "3044-O-flank_1=hp1-DB",
           -7.5
          ],
          [
           2441,
           0.008223684210526315,
           "C",
           18,
           "3044-O-flank_1=hp1-DB",
           -7.5
          ],
          [
           3228,
           0.0074487895716946,
           "A",
           0,
           "3045-CC-flank_1=hp1-DB",
           -7.5
          ],
          [
           3228,
           0.001876172607879925,
           "A",
           2,
           "3045-CC-flank_1=hp1-DB",
           -7.5
          ],
          [
           3228,
           0.0024929884699283265,
           "A",
           4,
           "3045-CC-flank_1=hp1-DB",
           -7.5
          ],
          [
           3228,
           0.004659832246039142,
           "C",
           7,
           "3045-CC-flank_1=hp1-DB",
           -7.5
          ],
          [
           3228,
           0.004061230865354577,
           "A",
           13,
           "3045-CC-flank_1=hp1-DB",
           -7.5
          ],
          [
           3228,
           0.002178649237472767,
           "A",
           14,
           "3045-CC-flank_1=hp1-DB",
           -7.5
          ],
          [
           3228,
           0.003436426116838488,
           "A",
           16,
           "3045-CC-flank_1=hp1-DB",
           -7.5
          ],
          [
           3228,
           0.011638880150990877,
           "C",
           18,
           "3045-CC-flank_1=hp1-DB",
           -7.5
          ],
          [
           2770,
           0.004708438971387179,
           "A",
           1,
           "3046-O-flank_1=hp1-DB",
           -5.9
          ],
          [
           2770,
           0.006929248723559446,
           "A",
           3,
           "3046-O-flank_1=hp1-DB",
           -5.9
          ],
          [
           2770,
           0.006884057971014493,
           "C",
           6,
           "3046-O-flank_1=hp1-DB",
           -5.9
          ],
          [
           2770,
           0.005837285662167092,
           "A",
           12,
           "3046-O-flank_1=hp1-DB",
           -5.9
          ],
          [
           2770,
           0.004718693284936479,
           "A",
           13,
           "3046-O-flank_1=hp1-DB",
           -5.9
          ],
          [
           2770,
           0.006197593875318994,
           "A",
           15,
           "3046-O-flank_1=hp1-DB",
           -5.9
          ],
          [
           2770,
           0.019744058500914076,
           "C",
           17,
           "3046-O-flank_1=hp1-DB",
           -5.9
          ],
          [
           3351,
           0.011739915713425647,
           "A",
           0,
           "3047-O-flank_1=hp1-DB",
           -3
          ],
          [
           3351,
           0.008441362677117878,
           "A",
           2,
           "3047-O-flank_1=hp1-DB",
           -3
          ],
          [
           3351,
           0.011968880909634948,
           "C",
           5,
           "3047-O-flank_1=hp1-DB",
           -3
          ],
          [
           3351,
           0.013414634146341463,
           "A",
           11,
           "3047-O-flank_1=hp1-DB",
           -3
          ],
          [
           3351,
           0.011504692703602786,
           "A",
           12,
           "3047-O-flank_1=hp1-DB",
           -3
          ],
          [
           3351,
           0.007621951219512195,
           "A",
           14,
           "3047-O-flank_1=hp1-DB",
           -3
          ],
          [
           1753,
           0.015463917525773196,
           "A",
           1,
           "3048-O-flank_1=hp1-DB",
           -1.9
          ],
          [
           1753,
           0.012578616352201259,
           "C",
           4,
           "3048-O-flank_1=hp1-DB",
           -1.9
          ],
          [
           1753,
           0.008680555555555556,
           "A",
           10,
           "3048-O-flank_1=hp1-DB",
           -1.9
          ],
          [
           1753,
           0.010315186246418338,
           "A",
           11,
           "3048-O-flank_1=hp1-DB",
           -1.9
          ],
          [
           1753,
           0.006896551724137931,
           "A",
           13,
           "3048-O-flank_1=hp1-DB",
           -1.9
          ],
          [
           816,
           0.00865265760197775,
           "A",
           0,
           "3049-O-flank_1=hp1-DB",
           -0.6
          ],
          [
           816,
           0.025798525798525797,
           "C",
           3,
           "3049-O-flank_1=hp1-DB",
           -0.6
          ],
          [
           816,
           0.018610421836228287,
           "A",
           9,
           "3049-O-flank_1=hp1-DB",
           -0.6
          ],
          [
           816,
           0.014814814814814815,
           "A",
           10,
           "3049-O-flank_1=hp1-DB",
           -0.6
          ]
         ],
         "type": "scatter",
         "x": [
          -8.4,
          -8.4,
          -8.4,
          -8.4,
          -8.4,
          -8.4,
          -8.4,
          -8.4,
          -8.4,
          -8.4,
          -8.4,
          -8.4,
          -8.4,
          -8.4,
          -8.4,
          -8.4,
          -8.4,
          -8.4,
          -7.5,
          -7.5,
          -7.5,
          -7.5,
          -7.5,
          -7.5,
          -7.5,
          -7.5,
          -7.5,
          -7.5,
          -7.5,
          -7.5,
          -7.5,
          -7.5,
          -7.5,
          -7.5,
          -5.9,
          -5.9,
          -5.9,
          -5.9,
          -5.9,
          -5.9,
          -5.9,
          -3,
          -3,
          -3,
          -3,
          -3,
          -3,
          -1.9,
          -1.9,
          -1.9,
          -1.9,
          -1.9,
          -0.6,
          -0.6,
          -0.6,
          -0.6
         ],
         "y": [
          0.01309328968903437,
          0.006129955046996322,
          0.0024650780608052587,
          0,
          0.002437043054427295,
          0.0024640657084188913,
          0.003676470588235294,
          0.0020475020475020475,
          0.004932182490752158,
          0.009580838323353293,
          0.006468615237182559,
          0.002406159769008662,
          0.0016818837097549255,
          0.005021520803443328,
          0.005068790731354091,
          0.0023963575365444525,
          0.0021691973969631237,
          0.006211180124223602,
          0.006155108740254411,
          0.002883031301482702,
          0.003711340206185567,
          0.0012315270935960591,
          0.002477291494632535,
          0.003703703703703704,
          0.0024783147459727386,
          0.008223684210526315,
          0.0074487895716946,
          0.001876172607879925,
          0.0024929884699283265,
          0.004659832246039142,
          0.004061230865354577,
          0.002178649237472767,
          0.003436426116838488,
          0.011638880150990877,
          0.004708438971387179,
          0.006929248723559446,
          0.006884057971014493,
          0.005837285662167092,
          0.004718693284936479,
          0.006197593875318994,
          0.019744058500914076,
          0.011739915713425647,
          0.008441362677117878,
          0.011968880909634948,
          0.013414634146341463,
          0.011504692703602786,
          0.007621951219512195,
          0.015463917525773196,
          0.012578616352201259,
          0.008680555555555556,
          0.010315186246418338,
          0.006896551724137931,
          0.00865265760197775,
          0.025798525798525797,
          0.018610421836228287,
          0.014814814814814815
         ]
        },
        {
         "hovertemplate": "<b>num_aligned: %{text[0]}<br><b>sub_rate: %{text[1]}<br><b>base: %{text[2]}<br><b>index: %{text[3]}<br><b>reference: %{text[4]}<br><b>deltaG: %{text[5]}<br>",
         "line": {
          "color": "red"
         },
         "marker": {
          "size": [
           12.315,
           12.315,
           12.315,
           20.985,
           20.985,
           20.985,
           12.205,
           12.205,
           12.205,
           16.14,
           16.14,
           16.14,
           13.85,
           13.85,
           13.85,
           16.755,
           16.755,
           16.755,
           8.765,
           8.765,
           8.765,
           4.08,
           4.08,
           4.08,
           14.545,
           14.545,
           14.545,
           14.545,
           14.545,
           14.545,
           20.9,
           20.9,
           20.9,
           20.9,
           20.9,
           16.77,
           16.77,
           16.77,
           16.77,
           37.21,
           37.21,
           37.21
          ]
         },
         "mode": "markers",
         "name": "Unpaired ",
         "text": [
          [
           2463,
           0.017493897477624084,
           "A",
           10,
           "3042-O-flank_1=hp1-DB",
           -8.4
          ],
          [
           2463,
           0.012043189368770765,
           "A",
           11,
           "3042-O-flank_1=hp1-DB",
           -8.4
          ],
          [
           2463,
           0.017486783245221633,
           "A",
           12,
           "3042-O-flank_1=hp1-DB",
           -8.4
          ],
          [
           4197,
           0.014097968936678614,
           "A",
           10,
           "3043-CC-flank_1=hp1-DB",
           -8.4
          ],
          [
           4197,
           0.01364522417153996,
           "A",
           11,
           "3043-CC-flank_1=hp1-DB",
           -8.4
          ],
          [
           4197,
           0.011927480916030535,
           "A",
           12,
           "3043-CC-flank_1=hp1-DB",
           -8.4
          ],
          [
           2441,
           0.015605749486652977,
           "A",
           9,
           "3044-O-flank_1=hp1-DB",
           -7.5
          ],
          [
           2441,
           0.01713330547430004,
           "A",
           10,
           "3044-O-flank_1=hp1-DB",
           -7.5
          ],
          [
           2441,
           0.012305168170631665,
           "A",
           11,
           "3044-O-flank_1=hp1-DB",
           -7.5
          ],
          [
           3228,
           0.017064846416382253,
           "A",
           9,
           "3045-CC-flank_1=hp1-DB",
           -7.5
          ],
          [
           3228,
           0.015213946117274169,
           "A",
           10,
           "3045-CC-flank_1=hp1-DB",
           -7.5
          ],
          [
           3228,
           0.019547005895128762,
           "A",
           11,
           "3045-CC-flank_1=hp1-DB",
           -7.5
          ],
          [
           2770,
           0.016985905312612938,
           "A",
           8,
           "3046-O-flank_1=hp1-DB",
           -5.9
          ],
          [
           2770,
           0.010549290651145871,
           "A",
           9,
           "3046-O-flank_1=hp1-DB",
           -5.9
          ],
          [
           2770,
           0.018458197611292075,
           "A",
           10,
           "3046-O-flank_1=hp1-DB",
           -5.9
          ],
          [
           3351,
           0.01526032315978456,
           "A",
           7,
           "3047-O-flank_1=hp1-DB",
           -3
          ],
          [
           3351,
           0.01536144578313253,
           "A",
           8,
           "3047-O-flank_1=hp1-DB",
           -3
          ],
          [
           3351,
           0.01763826606875934,
           "A",
           9,
           "3047-O-flank_1=hp1-DB",
           -3
          ],
          [
           1753,
           0.023958927552766685,
           "A",
           6,
           "3048-O-flank_1=hp1-DB",
           -1.9
          ],
          [
           1753,
           0.013218390804597701,
           "A",
           7,
           "3048-O-flank_1=hp1-DB",
           -1.9
          ],
          [
           1753,
           0.01599086236436322,
           "A",
           8,
           "3048-O-flank_1=hp1-DB",
           -1.9
          ],
          [
           816,
           0.011042944785276074,
           "A",
           5,
           "3049-O-flank_1=hp1-DB",
           -0.6
          ],
          [
           816,
           0.023370233702337023,
           "A",
           6,
           "3049-O-flank_1=hp1-DB",
           -0.6
          ],
          [
           816,
           0.01717791411042945,
           "A",
           7,
           "3049-O-flank_1=hp1-DB",
           -0.6
          ],
          [
           2909,
           0.02103448275862069,
           "C",
           2,
           "3050-O-flank_1=hp1-DB",
           0
          ],
          [
           2909,
           0.014142807864780959,
           "A",
           4,
           "3050-O-flank_1=hp1-DB",
           0
          ],
          [
           2909,
           0.018985157059026578,
           "A",
           5,
           "3050-O-flank_1=hp1-DB",
           0
          ],
          [
           2909,
           0.01826326671261199,
           "A",
           6,
           "3050-O-flank_1=hp1-DB",
           0
          ],
          [
           2909,
           0.012302284710017574,
           "A",
           8,
           "3050-O-flank_1=hp1-DB",
           0
          ],
          [
           2909,
           0.016410614525139665,
           "A",
           9,
           "3050-O-flank_1=hp1-DB",
           0
          ],
          [
           4180,
           0.02347762289068232,
           "C",
           1,
           "3051-O-flank_1=hp1-DB",
           0
          ],
          [
           4180,
           0.02414486921529175,
           "A",
           3,
           "3051-O-flank_1=hp1-DB",
           0
          ],
          [
           4180,
           0.02656449553001277,
           "A",
           4,
           "3051-O-flank_1=hp1-DB",
           0
          ],
          [
           4180,
           0.031242062484124967,
           "A",
           5,
           "3051-O-flank_1=hp1-DB",
           0
          ],
          [
           4180,
           0.02697201017811705,
           "A",
           7,
           "3051-O-flank_1=hp1-DB",
           0
          ],
          [
           3354,
           0.031512605042016806,
           "C",
           0,
           "3052-O-flank_1=hp1-DB",
           0
          ],
          [
           3354,
           0.025593008739076155,
           "A",
           2,
           "3052-O-flank_1=hp1-DB",
           0
          ],
          [
           3354,
           0.03129990418396678,
           "A",
           3,
           "3052-O-flank_1=hp1-DB",
           0
          ],
          [
           3354,
           0.028253968253968254,
           "A",
           4,
           "3052-O-flank_1=hp1-DB",
           0
          ],
          [
           7442,
           0.028766931992738446,
           "A",
           1,
           "3053-O-flank_1=hp1-DB",
           0
          ],
          [
           7442,
           0.032521489971346705,
           "A",
           2,
           "3053-O-flank_1=hp1-DB",
           0
          ],
          [
           7442,
           0.03341013824884793,
           "A",
           3,
           "3053-O-flank_1=hp1-DB",
           0
          ]
         ],
         "type": "scatter",
         "x": [
          -8.4,
          -8.4,
          -8.4,
          -8.4,
          -8.4,
          -8.4,
          -7.5,
          -7.5,
          -7.5,
          -7.5,
          -7.5,
          -7.5,
          -5.9,
          -5.9,
          -5.9,
          -3,
          -3,
          -3,
          -1.9,
          -1.9,
          -1.9,
          -0.6,
          -0.6,
          -0.6,
          0,
          0,
          0,
          0,
          0,
          0,
          0,
          0,
          0,
          0,
          0,
          0,
          0,
          0,
          0,
          0,
          0,
          0
         ],
         "y": [
          0.017493897477624084,
          0.012043189368770765,
          0.017486783245221633,
          0.014097968936678614,
          0.01364522417153996,
          0.011927480916030535,
          0.015605749486652977,
          0.01713330547430004,
          0.012305168170631665,
          0.017064846416382253,
          0.015213946117274169,
          0.019547005895128762,
          0.016985905312612938,
          0.010549290651145871,
          0.018458197611292075,
          0.01526032315978456,
          0.01536144578313253,
          0.01763826606875934,
          0.023958927552766685,
          0.013218390804597701,
          0.01599086236436322,
          0.011042944785276074,
          0.023370233702337023,
          0.01717791411042945,
          0.02103448275862069,
          0.014142807864780959,
          0.018985157059026578,
          0.01826326671261199,
          0.012302284710017574,
          0.016410614525139665,
          0.02347762289068232,
          0.02414486921529175,
          0.02656449553001277,
          0.031242062484124967,
          0.02697201017811705,
          0.031512605042016806,
          0.025593008739076155,
          0.03129990418396678,
          0.028253968253968254,
          0.028766931992738446,
          0.032521489971346705,
          0.03341013824884793
         ]
        }
       ],
       "layout": {
        "template": {
         "data": {
          "bar": [
           {
            "error_x": {
             "color": "#2a3f5f"
            },
            "error_y": {
             "color": "#2a3f5f"
            },
            "marker": {
             "line": {
              "color": "#E5ECF6",
              "width": 0.5
             },
             "pattern": {
              "fillmode": "overlay",
              "size": 10,
              "solidity": 0.2
             }
            },
            "type": "bar"
           }
          ],
          "barpolar": [
           {
            "marker": {
             "line": {
              "color": "#E5ECF6",
              "width": 0.5
             },
             "pattern": {
              "fillmode": "overlay",
              "size": 10,
              "solidity": 0.2
             }
            },
            "type": "barpolar"
           }
          ],
          "carpet": [
           {
            "aaxis": {
             "endlinecolor": "#2a3f5f",
             "gridcolor": "white",
             "linecolor": "white",
             "minorgridcolor": "white",
             "startlinecolor": "#2a3f5f"
            },
            "baxis": {
             "endlinecolor": "#2a3f5f",
             "gridcolor": "white",
             "linecolor": "white",
             "minorgridcolor": "white",
             "startlinecolor": "#2a3f5f"
            },
            "type": "carpet"
           }
          ],
          "choropleth": [
           {
            "colorbar": {
             "outlinewidth": 0,
             "ticks": ""
            },
            "type": "choropleth"
           }
          ],
          "contour": [
           {
            "colorbar": {
             "outlinewidth": 0,
             "ticks": ""
            },
            "colorscale": [
             [
              0,
              "#0d0887"
             ],
             [
              0.1111111111111111,
              "#46039f"
             ],
             [
              0.2222222222222222,
              "#7201a8"
             ],
             [
              0.3333333333333333,
              "#9c179e"
             ],
             [
              0.4444444444444444,
              "#bd3786"
             ],
             [
              0.5555555555555556,
              "#d8576b"
             ],
             [
              0.6666666666666666,
              "#ed7953"
             ],
             [
              0.7777777777777778,
              "#fb9f3a"
             ],
             [
              0.8888888888888888,
              "#fdca26"
             ],
             [
              1,
              "#f0f921"
             ]
            ],
            "type": "contour"
           }
          ],
          "contourcarpet": [
           {
            "colorbar": {
             "outlinewidth": 0,
             "ticks": ""
            },
            "type": "contourcarpet"
           }
          ],
          "heatmap": [
           {
            "colorbar": {
             "outlinewidth": 0,
             "ticks": ""
            },
            "colorscale": [
             [
              0,
              "#0d0887"
             ],
             [
              0.1111111111111111,
              "#46039f"
             ],
             [
              0.2222222222222222,
              "#7201a8"
             ],
             [
              0.3333333333333333,
              "#9c179e"
             ],
             [
              0.4444444444444444,
              "#bd3786"
             ],
             [
              0.5555555555555556,
              "#d8576b"
             ],
             [
              0.6666666666666666,
              "#ed7953"
             ],
             [
              0.7777777777777778,
              "#fb9f3a"
             ],
             [
              0.8888888888888888,
              "#fdca26"
             ],
             [
              1,
              "#f0f921"
             ]
            ],
            "type": "heatmap"
           }
          ],
          "heatmapgl": [
           {
            "colorbar": {
             "outlinewidth": 0,
             "ticks": ""
            },
            "colorscale": [
             [
              0,
              "#0d0887"
             ],
             [
              0.1111111111111111,
              "#46039f"
             ],
             [
              0.2222222222222222,
              "#7201a8"
             ],
             [
              0.3333333333333333,
              "#9c179e"
             ],
             [
              0.4444444444444444,
              "#bd3786"
             ],
             [
              0.5555555555555556,
              "#d8576b"
             ],
             [
              0.6666666666666666,
              "#ed7953"
             ],
             [
              0.7777777777777778,
              "#fb9f3a"
             ],
             [
              0.8888888888888888,
              "#fdca26"
             ],
             [
              1,
              "#f0f921"
             ]
            ],
            "type": "heatmapgl"
           }
          ],
          "histogram": [
           {
            "marker": {
             "pattern": {
              "fillmode": "overlay",
              "size": 10,
              "solidity": 0.2
             }
            },
            "type": "histogram"
           }
          ],
          "histogram2d": [
           {
            "colorbar": {
             "outlinewidth": 0,
             "ticks": ""
            },
            "colorscale": [
             [
              0,
              "#0d0887"
             ],
             [
              0.1111111111111111,
              "#46039f"
             ],
             [
              0.2222222222222222,
              "#7201a8"
             ],
             [
              0.3333333333333333,
              "#9c179e"
             ],
             [
              0.4444444444444444,
              "#bd3786"
             ],
             [
              0.5555555555555556,
              "#d8576b"
             ],
             [
              0.6666666666666666,
              "#ed7953"
             ],
             [
              0.7777777777777778,
              "#fb9f3a"
             ],
             [
              0.8888888888888888,
              "#fdca26"
             ],
             [
              1,
              "#f0f921"
             ]
            ],
            "type": "histogram2d"
           }
          ],
          "histogram2dcontour": [
           {
            "colorbar": {
             "outlinewidth": 0,
             "ticks": ""
            },
            "colorscale": [
             [
              0,
              "#0d0887"
             ],
             [
              0.1111111111111111,
              "#46039f"
             ],
             [
              0.2222222222222222,
              "#7201a8"
             ],
             [
              0.3333333333333333,
              "#9c179e"
             ],
             [
              0.4444444444444444,
              "#bd3786"
             ],
             [
              0.5555555555555556,
              "#d8576b"
             ],
             [
              0.6666666666666666,
              "#ed7953"
             ],
             [
              0.7777777777777778,
              "#fb9f3a"
             ],
             [
              0.8888888888888888,
              "#fdca26"
             ],
             [
              1,
              "#f0f921"
             ]
            ],
            "type": "histogram2dcontour"
           }
          ],
          "mesh3d": [
           {
            "colorbar": {
             "outlinewidth": 0,
             "ticks": ""
            },
            "type": "mesh3d"
           }
          ],
          "parcoords": [
           {
            "line": {
             "colorbar": {
              "outlinewidth": 0,
              "ticks": ""
             }
            },
            "type": "parcoords"
           }
          ],
          "pie": [
           {
            "automargin": true,
            "type": "pie"
           }
          ],
          "scatter": [
           {
            "fillpattern": {
             "fillmode": "overlay",
             "size": 10,
             "solidity": 0.2
            },
            "type": "scatter"
           }
          ],
          "scatter3d": [
           {
            "line": {
             "colorbar": {
              "outlinewidth": 0,
              "ticks": ""
             }
            },
            "marker": {
             "colorbar": {
              "outlinewidth": 0,
              "ticks": ""
             }
            },
            "type": "scatter3d"
           }
          ],
          "scattercarpet": [
           {
            "marker": {
             "colorbar": {
              "outlinewidth": 0,
              "ticks": ""
             }
            },
            "type": "scattercarpet"
           }
          ],
          "scattergeo": [
           {
            "marker": {
             "colorbar": {
              "outlinewidth": 0,
              "ticks": ""
             }
            },
            "type": "scattergeo"
           }
          ],
          "scattergl": [
           {
            "marker": {
             "colorbar": {
              "outlinewidth": 0,
              "ticks": ""
             }
            },
            "type": "scattergl"
           }
          ],
          "scattermapbox": [
           {
            "marker": {
             "colorbar": {
              "outlinewidth": 0,
              "ticks": ""
             }
            },
            "type": "scattermapbox"
           }
          ],
          "scatterpolar": [
           {
            "marker": {
             "colorbar": {
              "outlinewidth": 0,
              "ticks": ""
             }
            },
            "type": "scatterpolar"
           }
          ],
          "scatterpolargl": [
           {
            "marker": {
             "colorbar": {
              "outlinewidth": 0,
              "ticks": ""
             }
            },
            "type": "scatterpolargl"
           }
          ],
          "scatterternary": [
           {
            "marker": {
             "colorbar": {
              "outlinewidth": 0,
              "ticks": ""
             }
            },
            "type": "scatterternary"
           }
          ],
          "surface": [
           {
            "colorbar": {
             "outlinewidth": 0,
             "ticks": ""
            },
            "colorscale": [
             [
              0,
              "#0d0887"
             ],
             [
              0.1111111111111111,
              "#46039f"
             ],
             [
              0.2222222222222222,
              "#7201a8"
             ],
             [
              0.3333333333333333,
              "#9c179e"
             ],
             [
              0.4444444444444444,
              "#bd3786"
             ],
             [
              0.5555555555555556,
              "#d8576b"
             ],
             [
              0.6666666666666666,
              "#ed7953"
             ],
             [
              0.7777777777777778,
              "#fb9f3a"
             ],
             [
              0.8888888888888888,
              "#fdca26"
             ],
             [
              1,
              "#f0f921"
             ]
            ],
            "type": "surface"
           }
          ],
          "table": [
           {
            "cells": {
             "fill": {
              "color": "#EBF0F8"
             },
             "line": {
              "color": "white"
             }
            },
            "header": {
             "fill": {
              "color": "#C8D4E3"
             },
             "line": {
              "color": "white"
             }
            },
            "type": "table"
           }
          ]
         },
         "layout": {
          "annotationdefaults": {
           "arrowcolor": "#2a3f5f",
           "arrowhead": 0,
           "arrowwidth": 1
          },
          "autotypenumbers": "strict",
          "coloraxis": {
           "colorbar": {
            "outlinewidth": 0,
            "ticks": ""
           }
          },
          "colorscale": {
           "diverging": [
            [
             0,
             "#8e0152"
            ],
            [
             0.1,
             "#c51b7d"
            ],
            [
             0.2,
             "#de77ae"
            ],
            [
             0.3,
             "#f1b6da"
            ],
            [
             0.4,
             "#fde0ef"
            ],
            [
             0.5,
             "#f7f7f7"
            ],
            [
             0.6,
             "#e6f5d0"
            ],
            [
             0.7,
             "#b8e186"
            ],
            [
             0.8,
             "#7fbc41"
            ],
            [
             0.9,
             "#4d9221"
            ],
            [
             1,
             "#276419"
            ]
           ],
           "sequential": [
            [
             0,
             "#0d0887"
            ],
            [
             0.1111111111111111,
             "#46039f"
            ],
            [
             0.2222222222222222,
             "#7201a8"
            ],
            [
             0.3333333333333333,
             "#9c179e"
            ],
            [
             0.4444444444444444,
             "#bd3786"
            ],
            [
             0.5555555555555556,
             "#d8576b"
            ],
            [
             0.6666666666666666,
             "#ed7953"
            ],
            [
             0.7777777777777778,
             "#fb9f3a"
            ],
            [
             0.8888888888888888,
             "#fdca26"
            ],
            [
             1,
             "#f0f921"
            ]
           ],
           "sequentialminus": [
            [
             0,
             "#0d0887"
            ],
            [
             0.1111111111111111,
             "#46039f"
            ],
            [
             0.2222222222222222,
             "#7201a8"
            ],
            [
             0.3333333333333333,
             "#9c179e"
            ],
            [
             0.4444444444444444,
             "#bd3786"
            ],
            [
             0.5555555555555556,
             "#d8576b"
            ],
            [
             0.6666666666666666,
             "#ed7953"
            ],
            [
             0.7777777777777778,
             "#fb9f3a"
            ],
            [
             0.8888888888888888,
             "#fdca26"
            ],
            [
             1,
             "#f0f921"
            ]
           ]
          },
          "colorway": [
           "#636efa",
           "#EF553B",
           "#00cc96",
           "#ab63fa",
           "#FFA15A",
           "#19d3f3",
           "#FF6692",
           "#B6E880",
           "#FF97FF",
           "#FECB52"
          ],
          "font": {
           "color": "#2a3f5f"
          },
          "geo": {
           "bgcolor": "white",
           "lakecolor": "white",
           "landcolor": "#E5ECF6",
           "showlakes": true,
           "showland": true,
           "subunitcolor": "white"
          },
          "hoverlabel": {
           "align": "left"
          },
          "hovermode": "closest",
          "mapbox": {
           "style": "light"
          },
          "paper_bgcolor": "white",
          "plot_bgcolor": "#E5ECF6",
          "polar": {
           "angularaxis": {
            "gridcolor": "white",
            "linecolor": "white",
            "ticks": ""
           },
           "bgcolor": "#E5ECF6",
           "radialaxis": {
            "gridcolor": "white",
            "linecolor": "white",
            "ticks": ""
           }
          },
          "scene": {
           "xaxis": {
            "backgroundcolor": "#E5ECF6",
            "gridcolor": "white",
            "gridwidth": 2,
            "linecolor": "white",
            "showbackground": true,
            "ticks": "",
            "zerolinecolor": "white"
           },
           "yaxis": {
            "backgroundcolor": "#E5ECF6",
            "gridcolor": "white",
            "gridwidth": 2,
            "linecolor": "white",
            "showbackground": true,
            "ticks": "",
            "zerolinecolor": "white"
           },
           "zaxis": {
            "backgroundcolor": "#E5ECF6",
            "gridcolor": "white",
            "gridwidth": 2,
            "linecolor": "white",
            "showbackground": true,
            "ticks": "",
            "zerolinecolor": "white"
           }
          },
          "shapedefaults": {
           "line": {
            "color": "#2a3f5f"
           }
          },
          "ternary": {
           "aaxis": {
            "gridcolor": "white",
            "linecolor": "white",
            "ticks": ""
           },
           "baxis": {
            "gridcolor": "white",
            "linecolor": "white",
            "ticks": ""
           },
           "bgcolor": "#E5ECF6",
           "caxis": {
            "gridcolor": "white",
            "linecolor": "white",
            "ticks": ""
           }
          },
          "title": {
           "x": 0.05
          },
          "xaxis": {
           "automargin": true,
           "gridcolor": "white",
           "linecolor": "white",
           "ticks": "",
           "title": {
            "standoff": 15
           },
           "zerolinecolor": "white",
           "zerolinewidth": 2
          },
          "yaxis": {
           "automargin": true,
           "gridcolor": "white",
           "linecolor": "white",
           "ticks": "",
           "title": {
            "standoff": 15
           },
           "zerolinecolor": "white",
           "zerolinewidth": 2
          }
         }
        },
        "title": {
         "text": "Mutation rates of paired / unpaired residues vs the expected energy of the molecule"
        },
        "xaxis": {
         "ticklen": 5,
         "title": {
          "text": "DeltaG"
         },
         "zeroline": false
        },
        "yaxis": {
         "ticklen": 5,
         "title": {
          "text": "Mutation rate "
         },
         "zeroline": false
        }
       }
      }
     },
     "metadata": {},
     "output_type": "display_data"
    }
   ],
   "source": [
    "fig = study.deltaG_vs_sub_rate(sample=sample, section='ROI', family=family, base_type=['A','C'])['fig']\n",
    "fig.show()\n",
    "fig.write_html(os.path.join(path_figs, 'deltaG_vs_sub_rate.html'))"
   ]
  },
  {
   "attachments": {},
   "cell_type": "markdown",
   "metadata": {},
   "source": [
    "## Aligned reads per reference"
   ]
  },
  {
   "cell_type": "code",
   "execution_count": 4,
   "metadata": {},
   "outputs": [
    {
     "data": {
      "application/vnd.plotly.v1+json": {
       "config": {
        "plotlyServerURL": "https://plot.ly"
       },
       "data": [
        {
         "marker": {
          "color": "indianred"
         },
         "showlegend": false,
         "type": "histogram",
         "x": [
          2463,
          4197,
          2441,
          3228,
          2770,
          3351,
          1753,
          816,
          2909,
          4180,
          3354,
          7442,
          3312,
          851,
          1672,
          2036,
          1066,
          978,
          2963,
          2153,
          1635,
          1233,
          4409,
          4669
         ]
        }
       ],
       "layout": {
        "template": {
         "data": {
          "bar": [
           {
            "error_x": {
             "color": "#2a3f5f"
            },
            "error_y": {
             "color": "#2a3f5f"
            },
            "marker": {
             "line": {
              "color": "#E5ECF6",
              "width": 0.5
             },
             "pattern": {
              "fillmode": "overlay",
              "size": 10,
              "solidity": 0.2
             }
            },
            "type": "bar"
           }
          ],
          "barpolar": [
           {
            "marker": {
             "line": {
              "color": "#E5ECF6",
              "width": 0.5
             },
             "pattern": {
              "fillmode": "overlay",
              "size": 10,
              "solidity": 0.2
             }
            },
            "type": "barpolar"
           }
          ],
          "carpet": [
           {
            "aaxis": {
             "endlinecolor": "#2a3f5f",
             "gridcolor": "white",
             "linecolor": "white",
             "minorgridcolor": "white",
             "startlinecolor": "#2a3f5f"
            },
            "baxis": {
             "endlinecolor": "#2a3f5f",
             "gridcolor": "white",
             "linecolor": "white",
             "minorgridcolor": "white",
             "startlinecolor": "#2a3f5f"
            },
            "type": "carpet"
           }
          ],
          "choropleth": [
           {
            "colorbar": {
             "outlinewidth": 0,
             "ticks": ""
            },
            "type": "choropleth"
           }
          ],
          "contour": [
           {
            "colorbar": {
             "outlinewidth": 0,
             "ticks": ""
            },
            "colorscale": [
             [
              0,
              "#0d0887"
             ],
             [
              0.1111111111111111,
              "#46039f"
             ],
             [
              0.2222222222222222,
              "#7201a8"
             ],
             [
              0.3333333333333333,
              "#9c179e"
             ],
             [
              0.4444444444444444,
              "#bd3786"
             ],
             [
              0.5555555555555556,
              "#d8576b"
             ],
             [
              0.6666666666666666,
              "#ed7953"
             ],
             [
              0.7777777777777778,
              "#fb9f3a"
             ],
             [
              0.8888888888888888,
              "#fdca26"
             ],
             [
              1,
              "#f0f921"
             ]
            ],
            "type": "contour"
           }
          ],
          "contourcarpet": [
           {
            "colorbar": {
             "outlinewidth": 0,
             "ticks": ""
            },
            "type": "contourcarpet"
           }
          ],
          "heatmap": [
           {
            "colorbar": {
             "outlinewidth": 0,
             "ticks": ""
            },
            "colorscale": [
             [
              0,
              "#0d0887"
             ],
             [
              0.1111111111111111,
              "#46039f"
             ],
             [
              0.2222222222222222,
              "#7201a8"
             ],
             [
              0.3333333333333333,
              "#9c179e"
             ],
             [
              0.4444444444444444,
              "#bd3786"
             ],
             [
              0.5555555555555556,
              "#d8576b"
             ],
             [
              0.6666666666666666,
              "#ed7953"
             ],
             [
              0.7777777777777778,
              "#fb9f3a"
             ],
             [
              0.8888888888888888,
              "#fdca26"
             ],
             [
              1,
              "#f0f921"
             ]
            ],
            "type": "heatmap"
           }
          ],
          "heatmapgl": [
           {
            "colorbar": {
             "outlinewidth": 0,
             "ticks": ""
            },
            "colorscale": [
             [
              0,
              "#0d0887"
             ],
             [
              0.1111111111111111,
              "#46039f"
             ],
             [
              0.2222222222222222,
              "#7201a8"
             ],
             [
              0.3333333333333333,
              "#9c179e"
             ],
             [
              0.4444444444444444,
              "#bd3786"
             ],
             [
              0.5555555555555556,
              "#d8576b"
             ],
             [
              0.6666666666666666,
              "#ed7953"
             ],
             [
              0.7777777777777778,
              "#fb9f3a"
             ],
             [
              0.8888888888888888,
              "#fdca26"
             ],
             [
              1,
              "#f0f921"
             ]
            ],
            "type": "heatmapgl"
           }
          ],
          "histogram": [
           {
            "marker": {
             "pattern": {
              "fillmode": "overlay",
              "size": 10,
              "solidity": 0.2
             }
            },
            "type": "histogram"
           }
          ],
          "histogram2d": [
           {
            "colorbar": {
             "outlinewidth": 0,
             "ticks": ""
            },
            "colorscale": [
             [
              0,
              "#0d0887"
             ],
             [
              0.1111111111111111,
              "#46039f"
             ],
             [
              0.2222222222222222,
              "#7201a8"
             ],
             [
              0.3333333333333333,
              "#9c179e"
             ],
             [
              0.4444444444444444,
              "#bd3786"
             ],
             [
              0.5555555555555556,
              "#d8576b"
             ],
             [
              0.6666666666666666,
              "#ed7953"
             ],
             [
              0.7777777777777778,
              "#fb9f3a"
             ],
             [
              0.8888888888888888,
              "#fdca26"
             ],
             [
              1,
              "#f0f921"
             ]
            ],
            "type": "histogram2d"
           }
          ],
          "histogram2dcontour": [
           {
            "colorbar": {
             "outlinewidth": 0,
             "ticks": ""
            },
            "colorscale": [
             [
              0,
              "#0d0887"
             ],
             [
              0.1111111111111111,
              "#46039f"
             ],
             [
              0.2222222222222222,
              "#7201a8"
             ],
             [
              0.3333333333333333,
              "#9c179e"
             ],
             [
              0.4444444444444444,
              "#bd3786"
             ],
             [
              0.5555555555555556,
              "#d8576b"
             ],
             [
              0.6666666666666666,
              "#ed7953"
             ],
             [
              0.7777777777777778,
              "#fb9f3a"
             ],
             [
              0.8888888888888888,
              "#fdca26"
             ],
             [
              1,
              "#f0f921"
             ]
            ],
            "type": "histogram2dcontour"
           }
          ],
          "mesh3d": [
           {
            "colorbar": {
             "outlinewidth": 0,
             "ticks": ""
            },
            "type": "mesh3d"
           }
          ],
          "parcoords": [
           {
            "line": {
             "colorbar": {
              "outlinewidth": 0,
              "ticks": ""
             }
            },
            "type": "parcoords"
           }
          ],
          "pie": [
           {
            "automargin": true,
            "type": "pie"
           }
          ],
          "scatter": [
           {
            "fillpattern": {
             "fillmode": "overlay",
             "size": 10,
             "solidity": 0.2
            },
            "type": "scatter"
           }
          ],
          "scatter3d": [
           {
            "line": {
             "colorbar": {
              "outlinewidth": 0,
              "ticks": ""
             }
            },
            "marker": {
             "colorbar": {
              "outlinewidth": 0,
              "ticks": ""
             }
            },
            "type": "scatter3d"
           }
          ],
          "scattercarpet": [
           {
            "marker": {
             "colorbar": {
              "outlinewidth": 0,
              "ticks": ""
             }
            },
            "type": "scattercarpet"
           }
          ],
          "scattergeo": [
           {
            "marker": {
             "colorbar": {
              "outlinewidth": 0,
              "ticks": ""
             }
            },
            "type": "scattergeo"
           }
          ],
          "scattergl": [
           {
            "marker": {
             "colorbar": {
              "outlinewidth": 0,
              "ticks": ""
             }
            },
            "type": "scattergl"
           }
          ],
          "scattermapbox": [
           {
            "marker": {
             "colorbar": {
              "outlinewidth": 0,
              "ticks": ""
             }
            },
            "type": "scattermapbox"
           }
          ],
          "scatterpolar": [
           {
            "marker": {
             "colorbar": {
              "outlinewidth": 0,
              "ticks": ""
             }
            },
            "type": "scatterpolar"
           }
          ],
          "scatterpolargl": [
           {
            "marker": {
             "colorbar": {
              "outlinewidth": 0,
              "ticks": ""
             }
            },
            "type": "scatterpolargl"
           }
          ],
          "scatterternary": [
           {
            "marker": {
             "colorbar": {
              "outlinewidth": 0,
              "ticks": ""
             }
            },
            "type": "scatterternary"
           }
          ],
          "surface": [
           {
            "colorbar": {
             "outlinewidth": 0,
             "ticks": ""
            },
            "colorscale": [
             [
              0,
              "#0d0887"
             ],
             [
              0.1111111111111111,
              "#46039f"
             ],
             [
              0.2222222222222222,
              "#7201a8"
             ],
             [
              0.3333333333333333,
              "#9c179e"
             ],
             [
              0.4444444444444444,
              "#bd3786"
             ],
             [
              0.5555555555555556,
              "#d8576b"
             ],
             [
              0.6666666666666666,
              "#ed7953"
             ],
             [
              0.7777777777777778,
              "#fb9f3a"
             ],
             [
              0.8888888888888888,
              "#fdca26"
             ],
             [
              1,
              "#f0f921"
             ]
            ],
            "type": "surface"
           }
          ],
          "table": [
           {
            "cells": {
             "fill": {
              "color": "#EBF0F8"
             },
             "line": {
              "color": "white"
             }
            },
            "header": {
             "fill": {
              "color": "#C8D4E3"
             },
             "line": {
              "color": "white"
             }
            },
            "type": "table"
           }
          ]
         },
         "layout": {
          "annotationdefaults": {
           "arrowcolor": "#2a3f5f",
           "arrowhead": 0,
           "arrowwidth": 1
          },
          "autotypenumbers": "strict",
          "coloraxis": {
           "colorbar": {
            "outlinewidth": 0,
            "ticks": ""
           }
          },
          "colorscale": {
           "diverging": [
            [
             0,
             "#8e0152"
            ],
            [
             0.1,
             "#c51b7d"
            ],
            [
             0.2,
             "#de77ae"
            ],
            [
             0.3,
             "#f1b6da"
            ],
            [
             0.4,
             "#fde0ef"
            ],
            [
             0.5,
             "#f7f7f7"
            ],
            [
             0.6,
             "#e6f5d0"
            ],
            [
             0.7,
             "#b8e186"
            ],
            [
             0.8,
             "#7fbc41"
            ],
            [
             0.9,
             "#4d9221"
            ],
            [
             1,
             "#276419"
            ]
           ],
           "sequential": [
            [
             0,
             "#0d0887"
            ],
            [
             0.1111111111111111,
             "#46039f"
            ],
            [
             0.2222222222222222,
             "#7201a8"
            ],
            [
             0.3333333333333333,
             "#9c179e"
            ],
            [
             0.4444444444444444,
             "#bd3786"
            ],
            [
             0.5555555555555556,
             "#d8576b"
            ],
            [
             0.6666666666666666,
             "#ed7953"
            ],
            [
             0.7777777777777778,
             "#fb9f3a"
            ],
            [
             0.8888888888888888,
             "#fdca26"
            ],
            [
             1,
             "#f0f921"
            ]
           ],
           "sequentialminus": [
            [
             0,
             "#0d0887"
            ],
            [
             0.1111111111111111,
             "#46039f"
            ],
            [
             0.2222222222222222,
             "#7201a8"
            ],
            [
             0.3333333333333333,
             "#9c179e"
            ],
            [
             0.4444444444444444,
             "#bd3786"
            ],
            [
             0.5555555555555556,
             "#d8576b"
            ],
            [
             0.6666666666666666,
             "#ed7953"
            ],
            [
             0.7777777777777778,
             "#fb9f3a"
            ],
            [
             0.8888888888888888,
             "#fdca26"
            ],
            [
             1,
             "#f0f921"
            ]
           ]
          },
          "colorway": [
           "#636efa",
           "#EF553B",
           "#00cc96",
           "#ab63fa",
           "#FFA15A",
           "#19d3f3",
           "#FF6692",
           "#B6E880",
           "#FF97FF",
           "#FECB52"
          ],
          "font": {
           "color": "#2a3f5f"
          },
          "geo": {
           "bgcolor": "white",
           "lakecolor": "white",
           "landcolor": "#E5ECF6",
           "showlakes": true,
           "showland": true,
           "subunitcolor": "white"
          },
          "hoverlabel": {
           "align": "left"
          },
          "hovermode": "closest",
          "mapbox": {
           "style": "light"
          },
          "paper_bgcolor": "white",
          "plot_bgcolor": "#E5ECF6",
          "polar": {
           "angularaxis": {
            "gridcolor": "white",
            "linecolor": "white",
            "ticks": ""
           },
           "bgcolor": "#E5ECF6",
           "radialaxis": {
            "gridcolor": "white",
            "linecolor": "white",
            "ticks": ""
           }
          },
          "scene": {
           "xaxis": {
            "backgroundcolor": "#E5ECF6",
            "gridcolor": "white",
            "gridwidth": 2,
            "linecolor": "white",
            "showbackground": true,
            "ticks": "",
            "zerolinecolor": "white"
           },
           "yaxis": {
            "backgroundcolor": "#E5ECF6",
            "gridcolor": "white",
            "gridwidth": 2,
            "linecolor": "white",
            "showbackground": true,
            "ticks": "",
            "zerolinecolor": "white"
           },
           "zaxis": {
            "backgroundcolor": "#E5ECF6",
            "gridcolor": "white",
            "gridwidth": 2,
            "linecolor": "white",
            "showbackground": true,
            "ticks": "",
            "zerolinecolor": "white"
           }
          },
          "shapedefaults": {
           "line": {
            "color": "#2a3f5f"
           }
          },
          "ternary": {
           "aaxis": {
            "gridcolor": "white",
            "linecolor": "white",
            "ticks": ""
           },
           "baxis": {
            "gridcolor": "white",
            "linecolor": "white",
            "ticks": ""
           },
           "bgcolor": "#E5ECF6",
           "caxis": {
            "gridcolor": "white",
            "linecolor": "white",
            "ticks": ""
           }
          },
          "title": {
           "x": 0.05
          },
          "xaxis": {
           "automargin": true,
           "gridcolor": "white",
           "linecolor": "white",
           "ticks": "",
           "title": {
            "standoff": 15
           },
           "zerolinecolor": "white",
           "zerolinewidth": 2
          },
          "yaxis": {
           "automargin": true,
           "gridcolor": "white",
           "linecolor": "white",
           "ticks": "",
           "title": {
            "standoff": 15
           },
           "zerolinecolor": "white",
           "zerolinewidth": 2
          }
         }
        },
        "title": {
         "text": "Number of aligned reads per reference frequency"
        },
        "xaxis": {
         "title": {
          "text": "Number of aligned reads"
         }
        },
        "yaxis": {
         "title": {
          "text": "Count"
         }
        }
       }
      }
     },
     "metadata": {},
     "output_type": "display_data"
    }
   ],
   "source": [
    "%reload_ext autoreload\n",
    "\n",
    "fig = study.num_aligned_reads_per_reference_frequency_distribution(\n",
    "    sample = sample,\n",
    "    section = 'full'\n",
    ")['fig']\n",
    "\n",
    "fig.show()\n",
    "fig.write_html(os.path.join(path_figs, 'num_aligned_reads_per_reference_frequency_distribution.html'))"
   ]
  },
  {
   "attachments": {},
   "cell_type": "markdown",
   "metadata": {},
   "source": [
    "## Mutations per read per sample"
   ]
  },
  {
   "cell_type": "code",
   "execution_count": 160,
   "metadata": {},
   "outputs": [
    {
     "data": {
      "application/vnd.plotly.v1+json": {
       "config": {
        "plotlyServerURL": "https://plot.ly"
       },
       "data": [
        {
         "marker": {
          "color": "indianred"
         },
         "showlegend": false,
         "type": "bar",
         "x": [
          0,
          1,
          2,
          3,
          4,
          5,
          6,
          7,
          8,
          9,
          10,
          11,
          12,
          13,
          14,
          15,
          16,
          17,
          18,
          19,
          20,
          21,
          22,
          23,
          24,
          25,
          26,
          27,
          28,
          29,
          30,
          31,
          32,
          33,
          34,
          35,
          36,
          37,
          38,
          39,
          40,
          41,
          42,
          43,
          44,
          45,
          46,
          47,
          48,
          49,
          50,
          51,
          52,
          53,
          54,
          55,
          56,
          57,
          58,
          59,
          60,
          61,
          62,
          63,
          64,
          65,
          66,
          67,
          68,
          69,
          70,
          71,
          72,
          73,
          74,
          75,
          76,
          77,
          78,
          79
         ],
         "xaxis": "x",
         "y": [
          431983,
          524030,
          358146,
          197924,
          106215,
          63327,
          42720,
          31691,
          24685,
          20241,
          17031,
          14095,
          11984,
          10122,
          8475,
          7281,
          6104,
          5416,
          4475,
          3961,
          3279,
          2898,
          2491,
          2024,
          1751,
          1497,
          1268,
          1048,
          842,
          761,
          677,
          583,
          469,
          421,
          347,
          302,
          253,
          197,
          192,
          169,
          141,
          131,
          111,
          105,
          98,
          78,
          72,
          72,
          49,
          45,
          58,
          39,
          30,
          40,
          33,
          24,
          34,
          24,
          14,
          16,
          15,
          16,
          8,
          7,
          7,
          3,
          7,
          3,
          5,
          3,
          3,
          2,
          2,
          2,
          0,
          0,
          0,
          0,
          0,
          0,
          1,
          0,
          0,
          0,
          0,
          0,
          0,
          0,
          0,
          0,
          0,
          0,
          0,
          0,
          0,
          0,
          0,
          0,
          0,
          0,
          0,
          0,
          0,
          0,
          0,
          0,
          0,
          0,
          0,
          0,
          0,
          0,
          0,
          0,
          0,
          0,
          0,
          0,
          0,
          0,
          0,
          0,
          0,
          0,
          0,
          0,
          0,
          0,
          0,
          0,
          0,
          0,
          0,
          0,
          0,
          0,
          0,
          0,
          0,
          0,
          0,
          0,
          0,
          0,
          0,
          0,
          0,
          0,
          0,
          0,
          0,
          0,
          0,
          0,
          0,
          0,
          0,
          0,
          0,
          0,
          0,
          0,
          0,
          0,
          0,
          0,
          0,
          0,
          0
         ],
         "yaxis": "y"
        }
       ],
       "layout": {
        "annotations": [
         {
          "font": {
           "size": 16
          },
          "showarrow": false,
          "text": "Number of mutations per read - 65degrees_1_S20_L001",
          "x": 0.5,
          "xanchor": "center",
          "xref": "paper",
          "y": 1,
          "yanchor": "bottom",
          "yref": "paper"
         }
        ],
        "autosize": true,
        "height": 500,
        "template": {
         "data": {
          "bar": [
           {
            "error_x": {
             "color": "#2a3f5f"
            },
            "error_y": {
             "color": "#2a3f5f"
            },
            "marker": {
             "line": {
              "color": "#E5ECF6",
              "width": 0.5
             },
             "pattern": {
              "fillmode": "overlay",
              "size": 10,
              "solidity": 0.2
             }
            },
            "type": "bar"
           }
          ],
          "barpolar": [
           {
            "marker": {
             "line": {
              "color": "#E5ECF6",
              "width": 0.5
             },
             "pattern": {
              "fillmode": "overlay",
              "size": 10,
              "solidity": 0.2
             }
            },
            "type": "barpolar"
           }
          ],
          "carpet": [
           {
            "aaxis": {
             "endlinecolor": "#2a3f5f",
             "gridcolor": "white",
             "linecolor": "white",
             "minorgridcolor": "white",
             "startlinecolor": "#2a3f5f"
            },
            "baxis": {
             "endlinecolor": "#2a3f5f",
             "gridcolor": "white",
             "linecolor": "white",
             "minorgridcolor": "white",
             "startlinecolor": "#2a3f5f"
            },
            "type": "carpet"
           }
          ],
          "choropleth": [
           {
            "colorbar": {
             "outlinewidth": 0,
             "ticks": ""
            },
            "type": "choropleth"
           }
          ],
          "contour": [
           {
            "colorbar": {
             "outlinewidth": 0,
             "ticks": ""
            },
            "colorscale": [
             [
              0,
              "#0d0887"
             ],
             [
              0.1111111111111111,
              "#46039f"
             ],
             [
              0.2222222222222222,
              "#7201a8"
             ],
             [
              0.3333333333333333,
              "#9c179e"
             ],
             [
              0.4444444444444444,
              "#bd3786"
             ],
             [
              0.5555555555555556,
              "#d8576b"
             ],
             [
              0.6666666666666666,
              "#ed7953"
             ],
             [
              0.7777777777777778,
              "#fb9f3a"
             ],
             [
              0.8888888888888888,
              "#fdca26"
             ],
             [
              1,
              "#f0f921"
             ]
            ],
            "type": "contour"
           }
          ],
          "contourcarpet": [
           {
            "colorbar": {
             "outlinewidth": 0,
             "ticks": ""
            },
            "type": "contourcarpet"
           }
          ],
          "heatmap": [
           {
            "colorbar": {
             "outlinewidth": 0,
             "ticks": ""
            },
            "colorscale": [
             [
              0,
              "#0d0887"
             ],
             [
              0.1111111111111111,
              "#46039f"
             ],
             [
              0.2222222222222222,
              "#7201a8"
             ],
             [
              0.3333333333333333,
              "#9c179e"
             ],
             [
              0.4444444444444444,
              "#bd3786"
             ],
             [
              0.5555555555555556,
              "#d8576b"
             ],
             [
              0.6666666666666666,
              "#ed7953"
             ],
             [
              0.7777777777777778,
              "#fb9f3a"
             ],
             [
              0.8888888888888888,
              "#fdca26"
             ],
             [
              1,
              "#f0f921"
             ]
            ],
            "type": "heatmap"
           }
          ],
          "heatmapgl": [
           {
            "colorbar": {
             "outlinewidth": 0,
             "ticks": ""
            },
            "colorscale": [
             [
              0,
              "#0d0887"
             ],
             [
              0.1111111111111111,
              "#46039f"
             ],
             [
              0.2222222222222222,
              "#7201a8"
             ],
             [
              0.3333333333333333,
              "#9c179e"
             ],
             [
              0.4444444444444444,
              "#bd3786"
             ],
             [
              0.5555555555555556,
              "#d8576b"
             ],
             [
              0.6666666666666666,
              "#ed7953"
             ],
             [
              0.7777777777777778,
              "#fb9f3a"
             ],
             [
              0.8888888888888888,
              "#fdca26"
             ],
             [
              1,
              "#f0f921"
             ]
            ],
            "type": "heatmapgl"
           }
          ],
          "histogram": [
           {
            "marker": {
             "pattern": {
              "fillmode": "overlay",
              "size": 10,
              "solidity": 0.2
             }
            },
            "type": "histogram"
           }
          ],
          "histogram2d": [
           {
            "colorbar": {
             "outlinewidth": 0,
             "ticks": ""
            },
            "colorscale": [
             [
              0,
              "#0d0887"
             ],
             [
              0.1111111111111111,
              "#46039f"
             ],
             [
              0.2222222222222222,
              "#7201a8"
             ],
             [
              0.3333333333333333,
              "#9c179e"
             ],
             [
              0.4444444444444444,
              "#bd3786"
             ],
             [
              0.5555555555555556,
              "#d8576b"
             ],
             [
              0.6666666666666666,
              "#ed7953"
             ],
             [
              0.7777777777777778,
              "#fb9f3a"
             ],
             [
              0.8888888888888888,
              "#fdca26"
             ],
             [
              1,
              "#f0f921"
             ]
            ],
            "type": "histogram2d"
           }
          ],
          "histogram2dcontour": [
           {
            "colorbar": {
             "outlinewidth": 0,
             "ticks": ""
            },
            "colorscale": [
             [
              0,
              "#0d0887"
             ],
             [
              0.1111111111111111,
              "#46039f"
             ],
             [
              0.2222222222222222,
              "#7201a8"
             ],
             [
              0.3333333333333333,
              "#9c179e"
             ],
             [
              0.4444444444444444,
              "#bd3786"
             ],
             [
              0.5555555555555556,
              "#d8576b"
             ],
             [
              0.6666666666666666,
              "#ed7953"
             ],
             [
              0.7777777777777778,
              "#fb9f3a"
             ],
             [
              0.8888888888888888,
              "#fdca26"
             ],
             [
              1,
              "#f0f921"
             ]
            ],
            "type": "histogram2dcontour"
           }
          ],
          "mesh3d": [
           {
            "colorbar": {
             "outlinewidth": 0,
             "ticks": ""
            },
            "type": "mesh3d"
           }
          ],
          "parcoords": [
           {
            "line": {
             "colorbar": {
              "outlinewidth": 0,
              "ticks": ""
             }
            },
            "type": "parcoords"
           }
          ],
          "pie": [
           {
            "automargin": true,
            "type": "pie"
           }
          ],
          "scatter": [
           {
            "fillpattern": {
             "fillmode": "overlay",
             "size": 10,
             "solidity": 0.2
            },
            "type": "scatter"
           }
          ],
          "scatter3d": [
           {
            "line": {
             "colorbar": {
              "outlinewidth": 0,
              "ticks": ""
             }
            },
            "marker": {
             "colorbar": {
              "outlinewidth": 0,
              "ticks": ""
             }
            },
            "type": "scatter3d"
           }
          ],
          "scattercarpet": [
           {
            "marker": {
             "colorbar": {
              "outlinewidth": 0,
              "ticks": ""
             }
            },
            "type": "scattercarpet"
           }
          ],
          "scattergeo": [
           {
            "marker": {
             "colorbar": {
              "outlinewidth": 0,
              "ticks": ""
             }
            },
            "type": "scattergeo"
           }
          ],
          "scattergl": [
           {
            "marker": {
             "colorbar": {
              "outlinewidth": 0,
              "ticks": ""
             }
            },
            "type": "scattergl"
           }
          ],
          "scattermapbox": [
           {
            "marker": {
             "colorbar": {
              "outlinewidth": 0,
              "ticks": ""
             }
            },
            "type": "scattermapbox"
           }
          ],
          "scatterpolar": [
           {
            "marker": {
             "colorbar": {
              "outlinewidth": 0,
              "ticks": ""
             }
            },
            "type": "scatterpolar"
           }
          ],
          "scatterpolargl": [
           {
            "marker": {
             "colorbar": {
              "outlinewidth": 0,
              "ticks": ""
             }
            },
            "type": "scatterpolargl"
           }
          ],
          "scatterternary": [
           {
            "marker": {
             "colorbar": {
              "outlinewidth": 0,
              "ticks": ""
             }
            },
            "type": "scatterternary"
           }
          ],
          "surface": [
           {
            "colorbar": {
             "outlinewidth": 0,
             "ticks": ""
            },
            "colorscale": [
             [
              0,
              "#0d0887"
             ],
             [
              0.1111111111111111,
              "#46039f"
             ],
             [
              0.2222222222222222,
              "#7201a8"
             ],
             [
              0.3333333333333333,
              "#9c179e"
             ],
             [
              0.4444444444444444,
              "#bd3786"
             ],
             [
              0.5555555555555556,
              "#d8576b"
             ],
             [
              0.6666666666666666,
              "#ed7953"
             ],
             [
              0.7777777777777778,
              "#fb9f3a"
             ],
             [
              0.8888888888888888,
              "#fdca26"
             ],
             [
              1,
              "#f0f921"
             ]
            ],
            "type": "surface"
           }
          ],
          "table": [
           {
            "cells": {
             "fill": {
              "color": "#EBF0F8"
             },
             "line": {
              "color": "white"
             }
            },
            "header": {
             "fill": {
              "color": "#C8D4E3"
             },
             "line": {
              "color": "white"
             }
            },
            "type": "table"
           }
          ]
         },
         "layout": {
          "annotationdefaults": {
           "arrowcolor": "#2a3f5f",
           "arrowhead": 0,
           "arrowwidth": 1
          },
          "autotypenumbers": "strict",
          "coloraxis": {
           "colorbar": {
            "outlinewidth": 0,
            "ticks": ""
           }
          },
          "colorscale": {
           "diverging": [
            [
             0,
             "#8e0152"
            ],
            [
             0.1,
             "#c51b7d"
            ],
            [
             0.2,
             "#de77ae"
            ],
            [
             0.3,
             "#f1b6da"
            ],
            [
             0.4,
             "#fde0ef"
            ],
            [
             0.5,
             "#f7f7f7"
            ],
            [
             0.6,
             "#e6f5d0"
            ],
            [
             0.7,
             "#b8e186"
            ],
            [
             0.8,
             "#7fbc41"
            ],
            [
             0.9,
             "#4d9221"
            ],
            [
             1,
             "#276419"
            ]
           ],
           "sequential": [
            [
             0,
             "#0d0887"
            ],
            [
             0.1111111111111111,
             "#46039f"
            ],
            [
             0.2222222222222222,
             "#7201a8"
            ],
            [
             0.3333333333333333,
             "#9c179e"
            ],
            [
             0.4444444444444444,
             "#bd3786"
            ],
            [
             0.5555555555555556,
             "#d8576b"
            ],
            [
             0.6666666666666666,
             "#ed7953"
            ],
            [
             0.7777777777777778,
             "#fb9f3a"
            ],
            [
             0.8888888888888888,
             "#fdca26"
            ],
            [
             1,
             "#f0f921"
            ]
           ],
           "sequentialminus": [
            [
             0,
             "#0d0887"
            ],
            [
             0.1111111111111111,
             "#46039f"
            ],
            [
             0.2222222222222222,
             "#7201a8"
            ],
            [
             0.3333333333333333,
             "#9c179e"
            ],
            [
             0.4444444444444444,
             "#bd3786"
            ],
            [
             0.5555555555555556,
             "#d8576b"
            ],
            [
             0.6666666666666666,
             "#ed7953"
            ],
            [
             0.7777777777777778,
             "#fb9f3a"
            ],
            [
             0.8888888888888888,
             "#fdca26"
            ],
            [
             1,
             "#f0f921"
            ]
           ]
          },
          "colorway": [
           "#636efa",
           "#EF553B",
           "#00cc96",
           "#ab63fa",
           "#FFA15A",
           "#19d3f3",
           "#FF6692",
           "#B6E880",
           "#FF97FF",
           "#FECB52"
          ],
          "font": {
           "color": "#2a3f5f"
          },
          "geo": {
           "bgcolor": "white",
           "lakecolor": "white",
           "landcolor": "#E5ECF6",
           "showlakes": true,
           "showland": true,
           "subunitcolor": "white"
          },
          "hoverlabel": {
           "align": "left"
          },
          "hovermode": "closest",
          "mapbox": {
           "style": "light"
          },
          "paper_bgcolor": "white",
          "plot_bgcolor": "#E5ECF6",
          "polar": {
           "angularaxis": {
            "gridcolor": "white",
            "linecolor": "white",
            "ticks": ""
           },
           "bgcolor": "#E5ECF6",
           "radialaxis": {
            "gridcolor": "white",
            "linecolor": "white",
            "ticks": ""
           }
          },
          "scene": {
           "xaxis": {
            "backgroundcolor": "#E5ECF6",
            "gridcolor": "white",
            "gridwidth": 2,
            "linecolor": "white",
            "showbackground": true,
            "ticks": "",
            "zerolinecolor": "white"
           },
           "yaxis": {
            "backgroundcolor": "#E5ECF6",
            "gridcolor": "white",
            "gridwidth": 2,
            "linecolor": "white",
            "showbackground": true,
            "ticks": "",
            "zerolinecolor": "white"
           },
           "zaxis": {
            "backgroundcolor": "#E5ECF6",
            "gridcolor": "white",
            "gridwidth": 2,
            "linecolor": "white",
            "showbackground": true,
            "ticks": "",
            "zerolinecolor": "white"
           }
          },
          "shapedefaults": {
           "line": {
            "color": "#2a3f5f"
           }
          },
          "ternary": {
           "aaxis": {
            "gridcolor": "white",
            "linecolor": "white",
            "ticks": ""
           },
           "baxis": {
            "gridcolor": "white",
            "linecolor": "white",
            "ticks": ""
           },
           "bgcolor": "#E5ECF6",
           "caxis": {
            "gridcolor": "white",
            "linecolor": "white",
            "ticks": ""
           }
          },
          "title": {
           "x": 0.05
          },
          "xaxis": {
           "automargin": true,
           "gridcolor": "white",
           "linecolor": "white",
           "ticks": "",
           "title": {
            "standoff": 15
           },
           "zerolinecolor": "white",
           "zerolinewidth": 2
          },
          "yaxis": {
           "automargin": true,
           "gridcolor": "white",
           "linecolor": "white",
           "ticks": "",
           "title": {
            "standoff": 15
           },
           "zerolinecolor": "white",
           "zerolinewidth": 2
          }
         }
        },
        "title": {
         "text": "Number of mutation per read across samples"
        },
        "xaxis": {
         "anchor": "y",
         "domain": [
          0,
          1
         ],
         "dtick": 10
        },
        "yaxis": {
         "anchor": "x",
         "domain": [
          0,
          1
         ],
         "title": {
          "text": "Count"
         }
        }
       }
      }
     },
     "metadata": {},
     "output_type": "display_data"
    }
   ],
   "source": [
    "fig = study.mutations_per_read_per_sample(\n",
    "    sample = sample,\n",
    ")['fig']\n",
    "\n",
    "fig.show()\n",
    "\n",
    "fig.write_html(os.path.join(path_figs, 'mutations_per_read_per_sample.html'))"
   ]
  },
  {
   "cell_type": "code",
   "execution_count": 2,
   "metadata": {},
   "outputs": [
    {
     "data": {
      "application/vnd.plotly.v1+json": {
       "config": {
        "plotlyServerURL": "https://plot.ly"
       },
       "data": [
        {
         "hovertemplate": "<b>Experimental variable: %{x}<br>Mutation rate: %{y}<extra></extra>",
         "mode": "lines+markers",
         "name": "A11",
         "text": "temperature_k",
         "type": "scatter",
         "x": [
          278,
          278,
          283,
          283,
          295,
          295,
          310,
          310,
          338,
          338
         ],
         "y": [
          0.0003354579000335458,
          0.000501002004008016,
          0.0020491803278688526,
          0.0031545741324921135,
          0.01175680214981525,
          0.006349206349206349,
          0.004992511233150275,
          0.005186089078706529,
          0.017493897477624084,
          0.01520112254443405
         ]
        },
        {
         "hovertemplate": "<b>Experimental variable: %{x}<br>Mutation rate: %{y}<extra></extra>",
         "mode": "lines+markers",
         "name": "A12",
         "text": "temperature_k",
         "type": "scatter",
         "x": [
          278,
          278,
          283,
          283,
          295,
          295,
          310,
          310,
          338,
          338
         ],
         "y": [
          0.002061855670103093,
          0.0010214504596527069,
          0.006263048016701462,
          0.0022872827081427266,
          0.012991452991452991,
          0.007658202337767029,
          0.0056036678553234845,
          0.006546134663341646,
          0.012043189368770765,
          0.012631077216396568
         ]
        },
        {
         "hovertemplate": "<b>Experimental variable: %{x}<br>Mutation rate: %{y}<extra></extra>",
         "mode": "lines+markers",
         "name": "A13",
         "text": "temperature_k",
         "type": "scatter",
         "x": [
          278,
          278,
          283,
          283,
          295,
          295,
          310,
          310,
          338,
          338
         ],
         "y": [
          0.0030191211003019122,
          0.00200300450676014,
          0.0020491803278688526,
          0.0022512381809995496,
          0.012420275260154415,
          0.009904912836767036,
          0.008487269096355467,
          0.00699939135727328,
          0.017486783245221633,
          0.010978743284279373
         ]
        }
       ],
       "layout": {
        "template": {
         "data": {
          "bar": [
           {
            "error_x": {
             "color": "#2a3f5f"
            },
            "error_y": {
             "color": "#2a3f5f"
            },
            "marker": {
             "line": {
              "color": "#E5ECF6",
              "width": 0.5
             },
             "pattern": {
              "fillmode": "overlay",
              "size": 10,
              "solidity": 0.2
             }
            },
            "type": "bar"
           }
          ],
          "barpolar": [
           {
            "marker": {
             "line": {
              "color": "#E5ECF6",
              "width": 0.5
             },
             "pattern": {
              "fillmode": "overlay",
              "size": 10,
              "solidity": 0.2
             }
            },
            "type": "barpolar"
           }
          ],
          "carpet": [
           {
            "aaxis": {
             "endlinecolor": "#2a3f5f",
             "gridcolor": "white",
             "linecolor": "white",
             "minorgridcolor": "white",
             "startlinecolor": "#2a3f5f"
            },
            "baxis": {
             "endlinecolor": "#2a3f5f",
             "gridcolor": "white",
             "linecolor": "white",
             "minorgridcolor": "white",
             "startlinecolor": "#2a3f5f"
            },
            "type": "carpet"
           }
          ],
          "choropleth": [
           {
            "colorbar": {
             "outlinewidth": 0,
             "ticks": ""
            },
            "type": "choropleth"
           }
          ],
          "contour": [
           {
            "colorbar": {
             "outlinewidth": 0,
             "ticks": ""
            },
            "colorscale": [
             [
              0,
              "#0d0887"
             ],
             [
              0.1111111111111111,
              "#46039f"
             ],
             [
              0.2222222222222222,
              "#7201a8"
             ],
             [
              0.3333333333333333,
              "#9c179e"
             ],
             [
              0.4444444444444444,
              "#bd3786"
             ],
             [
              0.5555555555555556,
              "#d8576b"
             ],
             [
              0.6666666666666666,
              "#ed7953"
             ],
             [
              0.7777777777777778,
              "#fb9f3a"
             ],
             [
              0.8888888888888888,
              "#fdca26"
             ],
             [
              1,
              "#f0f921"
             ]
            ],
            "type": "contour"
           }
          ],
          "contourcarpet": [
           {
            "colorbar": {
             "outlinewidth": 0,
             "ticks": ""
            },
            "type": "contourcarpet"
           }
          ],
          "heatmap": [
           {
            "colorbar": {
             "outlinewidth": 0,
             "ticks": ""
            },
            "colorscale": [
             [
              0,
              "#0d0887"
             ],
             [
              0.1111111111111111,
              "#46039f"
             ],
             [
              0.2222222222222222,
              "#7201a8"
             ],
             [
              0.3333333333333333,
              "#9c179e"
             ],
             [
              0.4444444444444444,
              "#bd3786"
             ],
             [
              0.5555555555555556,
              "#d8576b"
             ],
             [
              0.6666666666666666,
              "#ed7953"
             ],
             [
              0.7777777777777778,
              "#fb9f3a"
             ],
             [
              0.8888888888888888,
              "#fdca26"
             ],
             [
              1,
              "#f0f921"
             ]
            ],
            "type": "heatmap"
           }
          ],
          "heatmapgl": [
           {
            "colorbar": {
             "outlinewidth": 0,
             "ticks": ""
            },
            "colorscale": [
             [
              0,
              "#0d0887"
             ],
             [
              0.1111111111111111,
              "#46039f"
             ],
             [
              0.2222222222222222,
              "#7201a8"
             ],
             [
              0.3333333333333333,
              "#9c179e"
             ],
             [
              0.4444444444444444,
              "#bd3786"
             ],
             [
              0.5555555555555556,
              "#d8576b"
             ],
             [
              0.6666666666666666,
              "#ed7953"
             ],
             [
              0.7777777777777778,
              "#fb9f3a"
             ],
             [
              0.8888888888888888,
              "#fdca26"
             ],
             [
              1,
              "#f0f921"
             ]
            ],
            "type": "heatmapgl"
           }
          ],
          "histogram": [
           {
            "marker": {
             "pattern": {
              "fillmode": "overlay",
              "size": 10,
              "solidity": 0.2
             }
            },
            "type": "histogram"
           }
          ],
          "histogram2d": [
           {
            "colorbar": {
             "outlinewidth": 0,
             "ticks": ""
            },
            "colorscale": [
             [
              0,
              "#0d0887"
             ],
             [
              0.1111111111111111,
              "#46039f"
             ],
             [
              0.2222222222222222,
              "#7201a8"
             ],
             [
              0.3333333333333333,
              "#9c179e"
             ],
             [
              0.4444444444444444,
              "#bd3786"
             ],
             [
              0.5555555555555556,
              "#d8576b"
             ],
             [
              0.6666666666666666,
              "#ed7953"
             ],
             [
              0.7777777777777778,
              "#fb9f3a"
             ],
             [
              0.8888888888888888,
              "#fdca26"
             ],
             [
              1,
              "#f0f921"
             ]
            ],
            "type": "histogram2d"
           }
          ],
          "histogram2dcontour": [
           {
            "colorbar": {
             "outlinewidth": 0,
             "ticks": ""
            },
            "colorscale": [
             [
              0,
              "#0d0887"
             ],
             [
              0.1111111111111111,
              "#46039f"
             ],
             [
              0.2222222222222222,
              "#7201a8"
             ],
             [
              0.3333333333333333,
              "#9c179e"
             ],
             [
              0.4444444444444444,
              "#bd3786"
             ],
             [
              0.5555555555555556,
              "#d8576b"
             ],
             [
              0.6666666666666666,
              "#ed7953"
             ],
             [
              0.7777777777777778,
              "#fb9f3a"
             ],
             [
              0.8888888888888888,
              "#fdca26"
             ],
             [
              1,
              "#f0f921"
             ]
            ],
            "type": "histogram2dcontour"
           }
          ],
          "mesh3d": [
           {
            "colorbar": {
             "outlinewidth": 0,
             "ticks": ""
            },
            "type": "mesh3d"
           }
          ],
          "parcoords": [
           {
            "line": {
             "colorbar": {
              "outlinewidth": 0,
              "ticks": ""
             }
            },
            "type": "parcoords"
           }
          ],
          "pie": [
           {
            "automargin": true,
            "type": "pie"
           }
          ],
          "scatter": [
           {
            "fillpattern": {
             "fillmode": "overlay",
             "size": 10,
             "solidity": 0.2
            },
            "type": "scatter"
           }
          ],
          "scatter3d": [
           {
            "line": {
             "colorbar": {
              "outlinewidth": 0,
              "ticks": ""
             }
            },
            "marker": {
             "colorbar": {
              "outlinewidth": 0,
              "ticks": ""
             }
            },
            "type": "scatter3d"
           }
          ],
          "scattercarpet": [
           {
            "marker": {
             "colorbar": {
              "outlinewidth": 0,
              "ticks": ""
             }
            },
            "type": "scattercarpet"
           }
          ],
          "scattergeo": [
           {
            "marker": {
             "colorbar": {
              "outlinewidth": 0,
              "ticks": ""
             }
            },
            "type": "scattergeo"
           }
          ],
          "scattergl": [
           {
            "marker": {
             "colorbar": {
              "outlinewidth": 0,
              "ticks": ""
             }
            },
            "type": "scattergl"
           }
          ],
          "scattermapbox": [
           {
            "marker": {
             "colorbar": {
              "outlinewidth": 0,
              "ticks": ""
             }
            },
            "type": "scattermapbox"
           }
          ],
          "scatterpolar": [
           {
            "marker": {
             "colorbar": {
              "outlinewidth": 0,
              "ticks": ""
             }
            },
            "type": "scatterpolar"
           }
          ],
          "scatterpolargl": [
           {
            "marker": {
             "colorbar": {
              "outlinewidth": 0,
              "ticks": ""
             }
            },
            "type": "scatterpolargl"
           }
          ],
          "scatterternary": [
           {
            "marker": {
             "colorbar": {
              "outlinewidth": 0,
              "ticks": ""
             }
            },
            "type": "scatterternary"
           }
          ],
          "surface": [
           {
            "colorbar": {
             "outlinewidth": 0,
             "ticks": ""
            },
            "colorscale": [
             [
              0,
              "#0d0887"
             ],
             [
              0.1111111111111111,
              "#46039f"
             ],
             [
              0.2222222222222222,
              "#7201a8"
             ],
             [
              0.3333333333333333,
              "#9c179e"
             ],
             [
              0.4444444444444444,
              "#bd3786"
             ],
             [
              0.5555555555555556,
              "#d8576b"
             ],
             [
              0.6666666666666666,
              "#ed7953"
             ],
             [
              0.7777777777777778,
              "#fb9f3a"
             ],
             [
              0.8888888888888888,
              "#fdca26"
             ],
             [
              1,
              "#f0f921"
             ]
            ],
            "type": "surface"
           }
          ],
          "table": [
           {
            "cells": {
             "fill": {
              "color": "#EBF0F8"
             },
             "line": {
              "color": "white"
             }
            },
            "header": {
             "fill": {
              "color": "#C8D4E3"
             },
             "line": {
              "color": "white"
             }
            },
            "type": "table"
           }
          ]
         },
         "layout": {
          "annotationdefaults": {
           "arrowcolor": "#2a3f5f",
           "arrowhead": 0,
           "arrowwidth": 1
          },
          "autotypenumbers": "strict",
          "coloraxis": {
           "colorbar": {
            "outlinewidth": 0,
            "ticks": ""
           }
          },
          "colorscale": {
           "diverging": [
            [
             0,
             "#8e0152"
            ],
            [
             0.1,
             "#c51b7d"
            ],
            [
             0.2,
             "#de77ae"
            ],
            [
             0.3,
             "#f1b6da"
            ],
            [
             0.4,
             "#fde0ef"
            ],
            [
             0.5,
             "#f7f7f7"
            ],
            [
             0.6,
             "#e6f5d0"
            ],
            [
             0.7,
             "#b8e186"
            ],
            [
             0.8,
             "#7fbc41"
            ],
            [
             0.9,
             "#4d9221"
            ],
            [
             1,
             "#276419"
            ]
           ],
           "sequential": [
            [
             0,
             "#0d0887"
            ],
            [
             0.1111111111111111,
             "#46039f"
            ],
            [
             0.2222222222222222,
             "#7201a8"
            ],
            [
             0.3333333333333333,
             "#9c179e"
            ],
            [
             0.4444444444444444,
             "#bd3786"
            ],
            [
             0.5555555555555556,
             "#d8576b"
            ],
            [
             0.6666666666666666,
             "#ed7953"
            ],
            [
             0.7777777777777778,
             "#fb9f3a"
            ],
            [
             0.8888888888888888,
             "#fdca26"
            ],
            [
             1,
             "#f0f921"
            ]
           ],
           "sequentialminus": [
            [
             0,
             "#0d0887"
            ],
            [
             0.1111111111111111,
             "#46039f"
            ],
            [
             0.2222222222222222,
             "#7201a8"
            ],
            [
             0.3333333333333333,
             "#9c179e"
            ],
            [
             0.4444444444444444,
             "#bd3786"
            ],
            [
             0.5555555555555556,
             "#d8576b"
            ],
            [
             0.6666666666666666,
             "#ed7953"
            ],
            [
             0.7777777777777778,
             "#fb9f3a"
            ],
            [
             0.8888888888888888,
             "#fdca26"
            ],
            [
             1,
             "#f0f921"
            ]
           ]
          },
          "colorway": [
           "#636efa",
           "#EF553B",
           "#00cc96",
           "#ab63fa",
           "#FFA15A",
           "#19d3f3",
           "#FF6692",
           "#B6E880",
           "#FF97FF",
           "#FECB52"
          ],
          "font": {
           "color": "#2a3f5f"
          },
          "geo": {
           "bgcolor": "white",
           "lakecolor": "white",
           "landcolor": "#E5ECF6",
           "showlakes": true,
           "showland": true,
           "subunitcolor": "white"
          },
          "hoverlabel": {
           "align": "left"
          },
          "hovermode": "closest",
          "mapbox": {
           "style": "light"
          },
          "paper_bgcolor": "white",
          "plot_bgcolor": "#E5ECF6",
          "polar": {
           "angularaxis": {
            "gridcolor": "white",
            "linecolor": "white",
            "ticks": ""
           },
           "bgcolor": "#E5ECF6",
           "radialaxis": {
            "gridcolor": "white",
            "linecolor": "white",
            "ticks": ""
           }
          },
          "scene": {
           "xaxis": {
            "backgroundcolor": "#E5ECF6",
            "gridcolor": "white",
            "gridwidth": 2,
            "linecolor": "white",
            "showbackground": true,
            "ticks": "",
            "zerolinecolor": "white"
           },
           "yaxis": {
            "backgroundcolor": "#E5ECF6",
            "gridcolor": "white",
            "gridwidth": 2,
            "linecolor": "white",
            "showbackground": true,
            "ticks": "",
            "zerolinecolor": "white"
           },
           "zaxis": {
            "backgroundcolor": "#E5ECF6",
            "gridcolor": "white",
            "gridwidth": 2,
            "linecolor": "white",
            "showbackground": true,
            "ticks": "",
            "zerolinecolor": "white"
           }
          },
          "shapedefaults": {
           "line": {
            "color": "#2a3f5f"
           }
          },
          "ternary": {
           "aaxis": {
            "gridcolor": "white",
            "linecolor": "white",
            "ticks": ""
           },
           "baxis": {
            "gridcolor": "white",
            "linecolor": "white",
            "ticks": ""
           },
           "bgcolor": "#E5ECF6",
           "caxis": {
            "gridcolor": "white",
            "linecolor": "white",
            "ticks": ""
           }
          },
          "title": {
           "x": 0.05
          },
          "xaxis": {
           "automargin": true,
           "gridcolor": "white",
           "linecolor": "white",
           "ticks": "",
           "title": {
            "standoff": 15
           },
           "zerolinecolor": "white",
           "zerolinewidth": 2
          },
          "yaxis": {
           "automargin": true,
           "gridcolor": "white",
           "linecolor": "white",
           "ticks": "",
           "title": {
            "standoff": 15
           },
           "zerolinecolor": "white",
           "zerolinewidth": 2
          }
         }
        },
        "title": {
         "text": "Mutation rates across experimental variable - temperature_k"
        },
        "xaxis": {
         "title": {
          "text": "temperature_k"
         }
        },
        "yaxis": {
         "title": {
          "text": "Mutation rate"
         }
        }
       }
      }
     },
     "metadata": {},
     "output_type": "display_data"
    },
    {
     "data": {
      "text/html": [
       "<div>\n",
       "<style scoped>\n",
       "    .dataframe tbody tr th:only-of-type {\n",
       "        vertical-align: middle;\n",
       "    }\n",
       "\n",
       "    .dataframe tbody tr th {\n",
       "        vertical-align: top;\n",
       "    }\n",
       "\n",
       "    .dataframe thead th {\n",
       "        text-align: right;\n",
       "    }\n",
       "</style>\n",
       "<table border=\"1\" class=\"dataframe\">\n",
       "  <thead>\n",
       "    <tr style=\"text-align: right;\">\n",
       "      <th></th>\n",
       "      <th>A1</th>\n",
       "      <th>A2</th>\n",
       "      <th>G3</th>\n",
       "      <th>A4</th>\n",
       "      <th>T5</th>\n",
       "      <th>A6</th>\n",
       "      <th>T7</th>\n",
       "      <th>T8</th>\n",
       "      <th>C9</th>\n",
       "      <th>G10</th>\n",
       "      <th>...</th>\n",
       "      <th>G14</th>\n",
       "      <th>A15</th>\n",
       "      <th>A16</th>\n",
       "      <th>T17</th>\n",
       "      <th>A18</th>\n",
       "      <th>T19</th>\n",
       "      <th>C20</th>\n",
       "      <th>T21</th>\n",
       "      <th>T22</th>\n",
       "      <th>temperature_k</th>\n",
       "    </tr>\n",
       "    <tr>\n",
       "      <th>temperature_k</th>\n",
       "      <th></th>\n",
       "      <th></th>\n",
       "      <th></th>\n",
       "      <th></th>\n",
       "      <th></th>\n",
       "      <th></th>\n",
       "      <th></th>\n",
       "      <th></th>\n",
       "      <th></th>\n",
       "      <th></th>\n",
       "      <th></th>\n",
       "      <th></th>\n",
       "      <th></th>\n",
       "      <th></th>\n",
       "      <th></th>\n",
       "      <th></th>\n",
       "      <th></th>\n",
       "      <th></th>\n",
       "      <th></th>\n",
       "      <th></th>\n",
       "      <th></th>\n",
       "    </tr>\n",
       "  </thead>\n",
       "  <tbody>\n",
       "    <tr>\n",
       "      <th>278</th>\n",
       "      <td>0.000672</td>\n",
       "      <td>0.001011</td>\n",
       "      <td>0.010128</td>\n",
       "      <td>0.001355</td>\n",
       "      <td>0.000000</td>\n",
       "      <td>0.000337</td>\n",
       "      <td>0.000000</td>\n",
       "      <td>0.001008</td>\n",
       "      <td>0.002689</td>\n",
       "      <td>0.005376</td>\n",
       "      <td>...</td>\n",
       "      <td>0.004711</td>\n",
       "      <td>0.001013</td>\n",
       "      <td>0.000000</td>\n",
       "      <td>0.000000</td>\n",
       "      <td>0.000339</td>\n",
       "      <td>0.001038</td>\n",
       "      <td>0.006777</td>\n",
       "      <td>0.001370</td>\n",
       "      <td>0.000000</td>\n",
       "      <td>278.0</td>\n",
       "    </tr>\n",
       "    <tr>\n",
       "      <th>278</th>\n",
       "      <td>0.000000</td>\n",
       "      <td>0.001510</td>\n",
       "      <td>0.009548</td>\n",
       "      <td>0.000000</td>\n",
       "      <td>0.000505</td>\n",
       "      <td>0.001513</td>\n",
       "      <td>0.000504</td>\n",
       "      <td>0.000503</td>\n",
       "      <td>0.007028</td>\n",
       "      <td>0.003008</td>\n",
       "      <td>...</td>\n",
       "      <td>0.000501</td>\n",
       "      <td>0.001011</td>\n",
       "      <td>0.000000</td>\n",
       "      <td>0.000504</td>\n",
       "      <td>0.002023</td>\n",
       "      <td>0.000000</td>\n",
       "      <td>0.011634</td>\n",
       "      <td>0.000000</td>\n",
       "      <td>0.001019</td>\n",
       "      <td>278.0</td>\n",
       "    </tr>\n",
       "    <tr>\n",
       "      <th>283</th>\n",
       "      <td>0.002053</td>\n",
       "      <td>0.000000</td>\n",
       "      <td>0.012371</td>\n",
       "      <td>0.002070</td>\n",
       "      <td>0.000000</td>\n",
       "      <td>0.002049</td>\n",
       "      <td>0.000000</td>\n",
       "      <td>0.002066</td>\n",
       "      <td>0.002045</td>\n",
       "      <td>0.006135</td>\n",
       "      <td>...</td>\n",
       "      <td>0.004098</td>\n",
       "      <td>0.002066</td>\n",
       "      <td>0.004124</td>\n",
       "      <td>0.002058</td>\n",
       "      <td>0.000000</td>\n",
       "      <td>0.000000</td>\n",
       "      <td>0.002070</td>\n",
       "      <td>0.000000</td>\n",
       "      <td>0.000000</td>\n",
       "      <td>283.0</td>\n",
       "    </tr>\n",
       "    <tr>\n",
       "      <th>283</th>\n",
       "      <td>0.000903</td>\n",
       "      <td>0.002714</td>\n",
       "      <td>0.007223</td>\n",
       "      <td>0.000455</td>\n",
       "      <td>0.001362</td>\n",
       "      <td>0.001821</td>\n",
       "      <td>0.000000</td>\n",
       "      <td>0.000453</td>\n",
       "      <td>0.003165</td>\n",
       "      <td>0.004968</td>\n",
       "      <td>...</td>\n",
       "      <td>0.004513</td>\n",
       "      <td>0.000908</td>\n",
       "      <td>0.000453</td>\n",
       "      <td>0.000000</td>\n",
       "      <td>0.000910</td>\n",
       "      <td>0.001398</td>\n",
       "      <td>0.006372</td>\n",
       "      <td>0.000926</td>\n",
       "      <td>0.001385</td>\n",
       "      <td>283.0</td>\n",
       "    </tr>\n",
       "    <tr>\n",
       "      <th>295</th>\n",
       "      <td>0.004709</td>\n",
       "      <td>0.002353</td>\n",
       "      <td>0.006061</td>\n",
       "      <td>0.000338</td>\n",
       "      <td>0.000675</td>\n",
       "      <td>0.001013</td>\n",
       "      <td>0.000000</td>\n",
       "      <td>0.000675</td>\n",
       "      <td>0.005039</td>\n",
       "      <td>0.003359</td>\n",
       "      <td>...</td>\n",
       "      <td>0.004035</td>\n",
       "      <td>0.000675</td>\n",
       "      <td>0.000000</td>\n",
       "      <td>0.000337</td>\n",
       "      <td>0.000000</td>\n",
       "      <td>0.000000</td>\n",
       "      <td>0.007802</td>\n",
       "      <td>0.000343</td>\n",
       "      <td>0.000343</td>\n",
       "      <td>295.0</td>\n",
       "    </tr>\n",
       "    <tr>\n",
       "      <th>295</th>\n",
       "      <td>0.004374</td>\n",
       "      <td>0.001588</td>\n",
       "      <td>0.007555</td>\n",
       "      <td>0.001998</td>\n",
       "      <td>0.000797</td>\n",
       "      <td>0.000400</td>\n",
       "      <td>0.000399</td>\n",
       "      <td>0.000398</td>\n",
       "      <td>0.004758</td>\n",
       "      <td>0.004360</td>\n",
       "      <td>...</td>\n",
       "      <td>0.005558</td>\n",
       "      <td>0.001604</td>\n",
       "      <td>0.000000</td>\n",
       "      <td>0.001193</td>\n",
       "      <td>0.000801</td>\n",
       "      <td>0.000409</td>\n",
       "      <td>0.007194</td>\n",
       "      <td>0.000403</td>\n",
       "      <td>0.002422</td>\n",
       "      <td>295.0</td>\n",
       "    </tr>\n",
       "    <tr>\n",
       "      <th>310</th>\n",
       "      <td>0.001500</td>\n",
       "      <td>0.002503</td>\n",
       "      <td>0.005010</td>\n",
       "      <td>0.001513</td>\n",
       "      <td>0.000000</td>\n",
       "      <td>0.000502</td>\n",
       "      <td>0.001004</td>\n",
       "      <td>0.001507</td>\n",
       "      <td>0.003002</td>\n",
       "      <td>0.007992</td>\n",
       "      <td>...</td>\n",
       "      <td>0.001001</td>\n",
       "      <td>0.001511</td>\n",
       "      <td>0.000500</td>\n",
       "      <td>0.001001</td>\n",
       "      <td>0.001008</td>\n",
       "      <td>0.000000</td>\n",
       "      <td>0.004527</td>\n",
       "      <td>0.000509</td>\n",
       "      <td>0.000509</td>\n",
       "      <td>310.0</td>\n",
       "    </tr>\n",
       "    <tr>\n",
       "      <th>310</th>\n",
       "      <td>0.003974</td>\n",
       "      <td>0.000919</td>\n",
       "      <td>0.005805</td>\n",
       "      <td>0.000000</td>\n",
       "      <td>0.000918</td>\n",
       "      <td>0.000921</td>\n",
       "      <td>0.000615</td>\n",
       "      <td>0.000611</td>\n",
       "      <td>0.002135</td>\n",
       "      <td>0.006707</td>\n",
       "      <td>...</td>\n",
       "      <td>0.003959</td>\n",
       "      <td>0.001534</td>\n",
       "      <td>0.001531</td>\n",
       "      <td>0.000917</td>\n",
       "      <td>0.000308</td>\n",
       "      <td>0.000314</td>\n",
       "      <td>0.004610</td>\n",
       "      <td>0.000933</td>\n",
       "      <td>0.000311</td>\n",
       "      <td>310.0</td>\n",
       "    </tr>\n",
       "    <tr>\n",
       "      <th>338</th>\n",
       "      <td>0.013093</td>\n",
       "      <td>0.006130</td>\n",
       "      <td>0.005304</td>\n",
       "      <td>0.002465</td>\n",
       "      <td>0.000819</td>\n",
       "      <td>0.000000</td>\n",
       "      <td>0.000410</td>\n",
       "      <td>0.000409</td>\n",
       "      <td>0.002437</td>\n",
       "      <td>0.003663</td>\n",
       "      <td>...</td>\n",
       "      <td>0.003259</td>\n",
       "      <td>0.002464</td>\n",
       "      <td>0.003676</td>\n",
       "      <td>0.000815</td>\n",
       "      <td>0.002048</td>\n",
       "      <td>0.001251</td>\n",
       "      <td>0.004932</td>\n",
       "      <td>0.000416</td>\n",
       "      <td>0.001248</td>\n",
       "      <td>338.0</td>\n",
       "    </tr>\n",
       "    <tr>\n",
       "      <th>338</th>\n",
       "      <td>0.008681</td>\n",
       "      <td>0.004219</td>\n",
       "      <td>0.005625</td>\n",
       "      <td>0.003305</td>\n",
       "      <td>0.000941</td>\n",
       "      <td>0.001176</td>\n",
       "      <td>0.000706</td>\n",
       "      <td>0.000469</td>\n",
       "      <td>0.002807</td>\n",
       "      <td>0.002809</td>\n",
       "      <td>...</td>\n",
       "      <td>0.003510</td>\n",
       "      <td>0.004002</td>\n",
       "      <td>0.002811</td>\n",
       "      <td>0.000704</td>\n",
       "      <td>0.001410</td>\n",
       "      <td>0.000482</td>\n",
       "      <td>0.005194</td>\n",
       "      <td>0.000479</td>\n",
       "      <td>0.000959</td>\n",
       "      <td>338.0</td>\n",
       "    </tr>\n",
       "  </tbody>\n",
       "</table>\n",
       "<p>10 rows × 23 columns</p>\n",
       "</div>"
      ],
      "text/plain": [
       "                     A1        A2        G3        A4        T5        A6  \\\n",
       "temperature_k                                                               \n",
       "278            0.000672  0.001011  0.010128  0.001355  0.000000  0.000337   \n",
       "278            0.000000  0.001510  0.009548  0.000000  0.000505  0.001513   \n",
       "283            0.002053  0.000000  0.012371  0.002070  0.000000  0.002049   \n",
       "283            0.000903  0.002714  0.007223  0.000455  0.001362  0.001821   \n",
       "295            0.004709  0.002353  0.006061  0.000338  0.000675  0.001013   \n",
       "295            0.004374  0.001588  0.007555  0.001998  0.000797  0.000400   \n",
       "310            0.001500  0.002503  0.005010  0.001513  0.000000  0.000502   \n",
       "310            0.003974  0.000919  0.005805  0.000000  0.000918  0.000921   \n",
       "338            0.013093  0.006130  0.005304  0.002465  0.000819  0.000000   \n",
       "338            0.008681  0.004219  0.005625  0.003305  0.000941  0.001176   \n",
       "\n",
       "                     T7        T8        C9       G10  ...       G14  \\\n",
       "temperature_k                                          ...             \n",
       "278            0.000000  0.001008  0.002689  0.005376  ...  0.004711   \n",
       "278            0.000504  0.000503  0.007028  0.003008  ...  0.000501   \n",
       "283            0.000000  0.002066  0.002045  0.006135  ...  0.004098   \n",
       "283            0.000000  0.000453  0.003165  0.004968  ...  0.004513   \n",
       "295            0.000000  0.000675  0.005039  0.003359  ...  0.004035   \n",
       "295            0.000399  0.000398  0.004758  0.004360  ...  0.005558   \n",
       "310            0.001004  0.001507  0.003002  0.007992  ...  0.001001   \n",
       "310            0.000615  0.000611  0.002135  0.006707  ...  0.003959   \n",
       "338            0.000410  0.000409  0.002437  0.003663  ...  0.003259   \n",
       "338            0.000706  0.000469  0.002807  0.002809  ...  0.003510   \n",
       "\n",
       "                    A15       A16       T17       A18       T19       C20  \\\n",
       "temperature_k                                                               \n",
       "278            0.001013  0.000000  0.000000  0.000339  0.001038  0.006777   \n",
       "278            0.001011  0.000000  0.000504  0.002023  0.000000  0.011634   \n",
       "283            0.002066  0.004124  0.002058  0.000000  0.000000  0.002070   \n",
       "283            0.000908  0.000453  0.000000  0.000910  0.001398  0.006372   \n",
       "295            0.000675  0.000000  0.000337  0.000000  0.000000  0.007802   \n",
       "295            0.001604  0.000000  0.001193  0.000801  0.000409  0.007194   \n",
       "310            0.001511  0.000500  0.001001  0.001008  0.000000  0.004527   \n",
       "310            0.001534  0.001531  0.000917  0.000308  0.000314  0.004610   \n",
       "338            0.002464  0.003676  0.000815  0.002048  0.001251  0.004932   \n",
       "338            0.004002  0.002811  0.000704  0.001410  0.000482  0.005194   \n",
       "\n",
       "                    T21       T22  temperature_k  \n",
       "temperature_k                                     \n",
       "278            0.001370  0.000000          278.0  \n",
       "278            0.000000  0.001019          278.0  \n",
       "283            0.000000  0.000000          283.0  \n",
       "283            0.000926  0.001385          283.0  \n",
       "295            0.000343  0.000343          295.0  \n",
       "295            0.000403  0.002422          295.0  \n",
       "310            0.000509  0.000509          310.0  \n",
       "310            0.000933  0.000311          310.0  \n",
       "338            0.000416  0.001248          338.0  \n",
       "338            0.000479  0.000959          338.0  \n",
       "\n",
       "[10 rows x 23 columns]"
      ]
     },
     "execution_count": 2,
     "metadata": {},
     "output_type": "execute_result"
    }
   ],
   "source": [
    "study.experimental_variable_across_samples(\n",
    "    experimental_variable = 'temperature_k',\n",
    "    reference = reference,\n",
    "    section = 'ROI',\n",
    "    base_type = ['A','C'],\n",
    "    base_pairing = False\n",
    ")['fig'].show()\n",
    "study.experimental_variable_across_samples(\n",
    "    experimental_variable = 'temperature_k',\n",
    "    reference = reference,\n",
    "    section = 'ROI',\n",
    ")['data']"
   ]
  },
  {
   "cell_type": "code",
   "execution_count": 18,
   "metadata": {},
   "outputs": [
    {
     "data": {
      "text/html": [
       "<div>\n",
       "<style scoped>\n",
       "    .dataframe tbody tr th:only-of-type {\n",
       "        vertical-align: middle;\n",
       "    }\n",
       "\n",
       "    .dataframe tbody tr th {\n",
       "        vertical-align: top;\n",
       "    }\n",
       "\n",
       "    .dataframe thead th {\n",
       "        text-align: right;\n",
       "    }\n",
       "</style>\n",
       "<table border=\"1\" class=\"dataframe\">\n",
       "  <thead>\n",
       "    <tr style=\"text-align: right;\">\n",
       "      <th></th>\n",
       "      <th>DMS_conc_mM</th>\n",
       "      <th>temperature_k</th>\n",
       "      <th>buffer</th>\n",
       "      <th>cell_line</th>\n",
       "      <th>exp_env</th>\n",
       "      <th>inc_time_tot_secs</th>\n",
       "      <th>sample</th>\n",
       "    </tr>\n",
       "  </thead>\n",
       "  <tbody>\n",
       "    <tr>\n",
       "      <th>0</th>\n",
       "      <td>105.0</td>\n",
       "      <td>338</td>\n",
       "      <td>0.36 M sodium cacodylate, pH 7.2, containing 5...</td>\n",
       "      <td>NaN</td>\n",
       "      <td>in_vitro</td>\n",
       "      <td>300</td>\n",
       "      <td>65degrees_1_S20_L001</td>\n",
       "    </tr>\n",
       "    <tr>\n",
       "      <th>120</th>\n",
       "      <td>105.0</td>\n",
       "      <td>278</td>\n",
       "      <td>0.36 M sodium cacodylate, pH 7.2, containing 5...</td>\n",
       "      <td>NaN</td>\n",
       "      <td>in_vitro</td>\n",
       "      <td>300</td>\n",
       "      <td>5degrees_2_S9_L001</td>\n",
       "    </tr>\n",
       "    <tr>\n",
       "      <th>239</th>\n",
       "      <td>105.0</td>\n",
       "      <td>295</td>\n",
       "      <td>0.36 M sodium cacodylate, pH 7.2, containing 5...</td>\n",
       "      <td>NaN</td>\n",
       "      <td>in_vitro</td>\n",
       "      <td>300</td>\n",
       "      <td>25degrees_2_S13_L001</td>\n",
       "    </tr>\n",
       "    <tr>\n",
       "      <th>359</th>\n",
       "      <td>105.0</td>\n",
       "      <td>310</td>\n",
       "      <td>0.36 M sodium cacodylate, pH 7.2, containing 5...</td>\n",
       "      <td>NaN</td>\n",
       "      <td>in_vitro</td>\n",
       "      <td>300</td>\n",
       "      <td>37degrees_1percent_2_S15_L001</td>\n",
       "    </tr>\n",
       "    <tr>\n",
       "      <th>478</th>\n",
       "      <td>105.0</td>\n",
       "      <td>310</td>\n",
       "      <td>0.36 M sodium cacodylate, pH 7.2, containing 5...</td>\n",
       "      <td>NaN</td>\n",
       "      <td>in_vitro</td>\n",
       "      <td>300</td>\n",
       "      <td>37degrees_1percent_1_S14_L001</td>\n",
       "    </tr>\n",
       "    <tr>\n",
       "      <th>598</th>\n",
       "      <td>105.0</td>\n",
       "      <td>295</td>\n",
       "      <td>0.36 M sodium cacodylate, pH 7.2, containing 5...</td>\n",
       "      <td>NaN</td>\n",
       "      <td>in_vitro</td>\n",
       "      <td>300</td>\n",
       "      <td>25degrees_1_S12_L001</td>\n",
       "    </tr>\n",
       "    <tr>\n",
       "      <th>717</th>\n",
       "      <td>105.0</td>\n",
       "      <td>338</td>\n",
       "      <td>0.36 M sodium cacodylate, pH 7.2, containing 5...</td>\n",
       "      <td>NaN</td>\n",
       "      <td>in_vitro</td>\n",
       "      <td>300</td>\n",
       "      <td>65degrees_2_S21_L001</td>\n",
       "    </tr>\n",
       "    <tr>\n",
       "      <th>835</th>\n",
       "      <td>105.0</td>\n",
       "      <td>278</td>\n",
       "      <td>0.36 M sodium cacodylate, pH 7.2, containing 5...</td>\n",
       "      <td>NaN</td>\n",
       "      <td>in_vitro</td>\n",
       "      <td>300</td>\n",
       "      <td>5degrees_1_S8_L001</td>\n",
       "    </tr>\n",
       "    <tr>\n",
       "      <th>953</th>\n",
       "      <td>105.0</td>\n",
       "      <td>283</td>\n",
       "      <td>0.36 M sodium cacodylate, pH 7.2, containing 5...</td>\n",
       "      <td>NaN</td>\n",
       "      <td>in_vitro</td>\n",
       "      <td>300</td>\n",
       "      <td>10degrees_2_S11_L001</td>\n",
       "    </tr>\n",
       "    <tr>\n",
       "      <th>1072</th>\n",
       "      <td>105.0</td>\n",
       "      <td>318</td>\n",
       "      <td>0.36 M sodium cacodylate, pH 7.2, containing 5...</td>\n",
       "      <td>NaN</td>\n",
       "      <td>in_vitro</td>\n",
       "      <td>300</td>\n",
       "      <td>45degrees_2_S19_L001</td>\n",
       "    </tr>\n",
       "    <tr>\n",
       "      <th>1192</th>\n",
       "      <td>105.0</td>\n",
       "      <td>318</td>\n",
       "      <td>0.36 M sodium cacodylate, pH 7.2, containing 5...</td>\n",
       "      <td>NaN</td>\n",
       "      <td>in_vitro</td>\n",
       "      <td>300</td>\n",
       "      <td>45degrees_1_S18_L001</td>\n",
       "    </tr>\n",
       "    <tr>\n",
       "      <th>1311</th>\n",
       "      <td>105.0</td>\n",
       "      <td>283</td>\n",
       "      <td>0.36 M sodium cacodylate, pH 7.2, containing 5...</td>\n",
       "      <td>NaN</td>\n",
       "      <td>in_vitro</td>\n",
       "      <td>300</td>\n",
       "      <td>10degrees_1_S10_L001</td>\n",
       "    </tr>\n",
       "  </tbody>\n",
       "</table>\n",
       "</div>"
      ],
      "text/plain": [
       "      DMS_conc_mM  temperature_k  \\\n",
       "0           105.0            338   \n",
       "120         105.0            278   \n",
       "239         105.0            295   \n",
       "359         105.0            310   \n",
       "478         105.0            310   \n",
       "598         105.0            295   \n",
       "717         105.0            338   \n",
       "835         105.0            278   \n",
       "953         105.0            283   \n",
       "1072        105.0            318   \n",
       "1192        105.0            318   \n",
       "1311        105.0            283   \n",
       "\n",
       "                                                 buffer  cell_line   exp_env  \\\n",
       "0     0.36 M sodium cacodylate, pH 7.2, containing 5...        NaN  in_vitro   \n",
       "120   0.36 M sodium cacodylate, pH 7.2, containing 5...        NaN  in_vitro   \n",
       "239   0.36 M sodium cacodylate, pH 7.2, containing 5...        NaN  in_vitro   \n",
       "359   0.36 M sodium cacodylate, pH 7.2, containing 5...        NaN  in_vitro   \n",
       "478   0.36 M sodium cacodylate, pH 7.2, containing 5...        NaN  in_vitro   \n",
       "598   0.36 M sodium cacodylate, pH 7.2, containing 5...        NaN  in_vitro   \n",
       "717   0.36 M sodium cacodylate, pH 7.2, containing 5...        NaN  in_vitro   \n",
       "835   0.36 M sodium cacodylate, pH 7.2, containing 5...        NaN  in_vitro   \n",
       "953   0.36 M sodium cacodylate, pH 7.2, containing 5...        NaN  in_vitro   \n",
       "1072  0.36 M sodium cacodylate, pH 7.2, containing 5...        NaN  in_vitro   \n",
       "1192  0.36 M sodium cacodylate, pH 7.2, containing 5...        NaN  in_vitro   \n",
       "1311  0.36 M sodium cacodylate, pH 7.2, containing 5...        NaN  in_vitro   \n",
       "\n",
       "      inc_time_tot_secs                         sample  \n",
       "0                   300           65degrees_1_S20_L001  \n",
       "120                 300             5degrees_2_S9_L001  \n",
       "239                 300           25degrees_2_S13_L001  \n",
       "359                 300  37degrees_1percent_2_S15_L001  \n",
       "478                 300  37degrees_1percent_1_S14_L001  \n",
       "598                 300           25degrees_1_S12_L001  \n",
       "717                 300           65degrees_2_S21_L001  \n",
       "835                 300             5degrees_1_S8_L001  \n",
       "953                 300           10degrees_2_S11_L001  \n",
       "1072                300           45degrees_2_S19_L001  \n",
       "1192                300           45degrees_1_S18_L001  \n",
       "1311                300           10degrees_1_S10_L001  "
      ]
     },
     "execution_count": 18,
     "metadata": {},
     "output_type": "execute_result"
    }
   ],
   "source": [
    "study.df[['DMS_conc_mM','temperature_k','buffer','cell_line','exp_env','inc_time_tot_secs','sample']].drop_duplicates()"
   ]
  },
  {
   "cell_type": "code",
   "execution_count": 2,
   "metadata": {},
   "outputs": [
    {
     "data": {
      "text/plain": [
       "Index(['DMS_conc_mM', 'buffer', 'cell_line', 'date', 'exp_env',\n",
       "       'inc_time_tot_secs', 'library', 'sample', 'temperature_k', 'user',\n",
       "       'reference', 'barcode_end', 'barcode_start', 'family', 'flank',\n",
       "       'num_aligned', 'secondary_signature', 'secondary_signature_end',\n",
       "       'secondary_signature_start', 'section_boundaries', 'sequence',\n",
       "       'section', 'cluster', 'deltaG', 'section_end', 'section_start',\n",
       "       'structure', 'min_cov', 'cov', 'del', 'info',\n",
       "       'ins', 'sub_A', 'sub_C', 'sub_G', 'sub_N',\n",
       "       'sub_T', 'sub_N', 'sub_rate', 'sub_hist',\n",
       "       'poisson_high', 'poisson_low', 'barcode'],\n",
       "      dtype='object')"
      ]
     },
     "execution_count": 2,
     "metadata": {},
     "output_type": "execute_result"
    }
   ],
   "source": [
    "study.df.columns"
   ]
  }
 ],
 "metadata": {
  "kernelspec": {
   "display_name": "venv",
   "language": "python",
   "name": "python3"
  },
  "language_info": {
   "codemirror_mode": {
    "name": "ipython",
    "version": 3
   },
   "file_extension": ".py",
   "mimetype": "text/x-python",
   "name": "python",
   "nbconvert_exporter": "python",
   "pygments_lexer": "ipython3",
   "version": "3.11.0"
  },
  "orig_nbformat": 4,
  "vscode": {
   "interpreter": {
    "hash": "da229f0528e1c0d1c0b9dd42b2435d18e9f382f2b763d9e722ef981a0e650149"
   }
  }
 },
 "nbformat": 4,
 "nbformat_minor": 2
}

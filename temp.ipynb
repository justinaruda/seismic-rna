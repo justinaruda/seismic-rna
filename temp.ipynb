{
 "cells": [
  {
   "cell_type": "code",
   "execution_count": null,
   "metadata": {},
   "outputs": [
    {
     "ename": "",
     "evalue": "",
     "output_type": "error",
     "traceback": [
      "\u001b[1;31mRunning cells with '/Users/ymdt/miniconda3/bin/python' requires the ipykernel package.\n",
      "\u001b[1;31mRun the following command to install 'ipykernel' into the Python environment. \n",
      "\u001b[1;31mCommand: '/Users/ymdt/miniconda3/bin/python -m pip install ipykernel -U --user --force-reinstall'"
     ]
    }
   ],
   "source": [
    "import json\n",
    "import numpy as np\n",
    "\n",
    "sample = '/Users/ymdt/src/highthroughputcellularbiology/data/IDX-41_S10_L001.json'\n",
    "\n",
    "translation = {\n",
    "    'mod_bases_A': 'sub_A',\n",
    "    'mod_bases_C': 'sub_C',\n",
    "    'mod_bases_G': 'sub_G',\n",
    "    'mod_bases_T': 'sub_T',\n",
    "    'mod_bases_N': 'sub_N',\n",
    "    'mut_rates': 'sub_rate',\n",
    "    'num_of_mutations': 'sub_hist',\n",
    "    'info_bases': 'info',\n",
    "    'cov_bases': 'cov',\n",
    "    'ins_bases': 'ins',\n",
    "    'del_bases': 'del',\n",
    "    'mut_bases': 'sub_N',\n",
    "    'worst_cov_bases': 'min_cov',\n",
    "    'worst_cov': 'min_cov'\n",
    "}\n",
    "\n",
    "\n",
    "def update_json(json_file):\n",
    "    \n",
    "    with open(json_file) as f:\n",
    "        data = json.load(f)\n",
    "        \n",
    "    for ref, v in data.items():\n",
    "        if type(v) != dict:\n",
    "            continue\n",
    "        for section, v2 in v.items():\n",
    "            if type(v2) != dict:\n",
    "                continue\n",
    "            for attr in v2['pop_avg'].keys():\n",
    "                if attr in translation.keys():\n",
    "                    data[ref][section]['pop_avg'][translation[attr]] = data[ref][section]['pop_avg'].pop(attr)\n",
    "            L = len(data[ref][section]['pop_avg']['cov'])\n",
    "            data[ref][section]['pop_avg']['sub_hist'] = np.histogram(data[ref][section]['pop_avg']['sub_hist'], bins=range(0, L, 1))[0].tolist()\n",
    "            \n",
    "    with open(json_file, 'w') as f:\n",
    "        json.dump(data, f, indent=2)\n",
    "        \n"
   ]
  }
 ],
 "metadata": {
  "kernelspec": {
   "display_name": "Python 3",
   "language": "python",
   "name": "python3"
  },
  "language_info": {
   "codemirror_mode": {
    "name": "ipython",
    "version": 3
   },
   "file_extension": ".py",
   "mimetype": "text/x-python",
   "name": "python",
   "nbconvert_exporter": "python",
   "pygments_lexer": "ipython3",
   "version": "3.10.9"
  },
  "orig_nbformat": 4,
  "vscode": {
   "interpreter": {
    "hash": "4f716764f48b199b5b9af545b8ade804db3a5dcf1d18d5cd07d692c780ecab33"
   }
  }
 },
 "nbformat": 4,
 "nbformat_minor": 2
}

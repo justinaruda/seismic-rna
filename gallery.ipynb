{
 "cells": [
  {
   "attachments": {},
   "cell_type": "markdown",
   "metadata": {},
   "source": [
    "# Plot gallery"
   ]
  },
  {
   "attachments": {},
   "cell_type": "markdown",
   "metadata": {},
   "source": [
    "## How to use this notebook\n",
    "\n",
    "We use the test dataset stored [here](https://drive.google.com/file/d/1CTwrjO2dPWqISxcEyCJ1oj_EE1IaDrmI/view?usp=share_link). \n",
    "\n",
    "You shall store the data under the `data` folder, as follow:\n",
    "\n",
    "```\n",
    "/main folder\n",
    "    /data\n",
    "        sample1.json\n",
    "        sample2.json\n",
    "    gallery.ipynb"
   ]
  },
  {
   "attachments": {},
   "cell_type": "markdown",
   "metadata": {},
   "source": [
    "## Imports"
   ]
  },
  {
   "cell_type": "code",
   "execution_count": null,
   "metadata": {},
   "outputs": [],
   "source": [
    "%reload_ext autoreload\n",
    "import dreem, os, json\n",
    "import pandas as pd\n",
    "\n",
    "study = dreem.draw.study.Study(\n",
    ")\n",
    "import dreem, os, json\n",
    "\n",
    "# import all json in /data\n",
    "data = [ json.load(open(os.path.join('data', f))) for f in os.listdir('data') ]\n",
    "\n",
    "study = dreem.draw.study.Study(\n",
    "    data = data\n",
    ")\n",
    "sample, reference, section, family = study.df.iloc[0][['sample', 'reference', 'section', 'family']]\n"
   ]
  },
  {
   "cell_type": "code",
   "execution_count": null,
   "metadata": {},
   "outputs": [],
   "source": [
    "study.mutation_fraction(sample=sample, reference=reference, section=section)['fig'].show()"
   ]
  },
  {
   "attachments": {},
   "cell_type": "markdown",
   "metadata": {},
   "source": [
    "## DeltaG vs mutation fraction"
   ]
  },
  {
   "cell_type": "code",
   "execution_count": null,
   "metadata": {},
   "outputs": [],
   "source": [
    "study.deltaG_vs_mut_rates(sample=sample, section='ROI', family=family, base_type=['A','C'])['fig'].show()"
   ]
  },
  {
   "attachments": {},
   "cell_type": "markdown",
   "metadata": {},
   "source": [
    "## Mutations in barcode"
   ]
  },
  {
   "cell_type": "code",
   "execution_count": null,
   "metadata": {},
   "outputs": [],
   "source": [
    "%reload_ext autoreload\n",
    "if 0:\n",
    "    study.mutations_in_barcodes(\n",
    "        sample = ['10degrees_2_S11_L001','37degrees_01percent_2_S17_L001']\n",
    "        )['fig'].show()"
   ]
  },
  {
   "attachments": {},
   "cell_type": "markdown",
   "metadata": {},
   "source": [
    "## Aligned reads per reference"
   ]
  },
  {
   "cell_type": "code",
   "execution_count": null,
   "metadata": {},
   "outputs": [],
   "source": [
    "%reload_ext autoreload\n",
    "\n",
    "study.num_aligned_reads_per_reference_frequency_distribution(\n",
    "    sample = sample,\n",
    "    section = 'full'\n",
    ")['fig'].show()"
   ]
  },
  {
   "attachments": {},
   "cell_type": "markdown",
   "metadata": {},
   "source": [
    "## Mutations per read per reference"
   ]
  },
  {
   "cell_type": "code",
   "execution_count": null,
   "metadata": {},
   "outputs": [],
   "source": [
    "study.mutations_per_read_per_sample(\n",
    "    sample = sample,\n",
    ")['fig'].show()"
   ]
  }
 ],
 "metadata": {
  "kernelspec": {
   "display_name": "venv",
   "language": "python",
   "name": "python3"
  },
  "language_info": {
   "codemirror_mode": {
    "name": "ipython",
    "version": 3
   },
   "file_extension": ".py",
   "mimetype": "text/x-python",
   "name": "python",
   "nbconvert_exporter": "python",
   "pygments_lexer": "ipython3",
   "version": "3.11.0"
  },
  "orig_nbformat": 4,
  "vscode": {
   "interpreter": {
    "hash": "da229f0528e1c0d1c0b9dd42b2435d18e9f382f2b763d9e722ef981a0e650149"
   }
  }
 },
 "nbformat": 4,
 "nbformat_minor": 2
}
